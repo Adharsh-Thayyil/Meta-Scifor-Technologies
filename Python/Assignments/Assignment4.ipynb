{
  "nbformat": 4,
  "nbformat_minor": 0,
  "metadata": {
    "colab": {
      "provenance": [],
      "authorship_tag": "ABX9TyP9Ub7mjz9qVK2VHrDMnNyh"
    },
    "kernelspec": {
      "name": "python3",
      "display_name": "Python 3"
    },
    "language_info": {
      "name": "python"
    }
  },
  "cells": [
    {
      "cell_type": "markdown",
      "source": [
        "# **Assignment-4**"
      ],
      "metadata": {
        "id": "lIfc8603LOfJ"
      }
    },
    {
      "cell_type": "markdown",
      "source": [
        "Aarush recently learned probability in his school. He was finding the probability of different events and he wondered whether he can develop a program to do the same thing or not. To help Aarush create a program in python where user can enter number of favorable outcomes and total number of possible outcomes and then program will print the probability of that event on the screen. ● Note: ● Print the probability of the event only up to 2 decimal places. ( For this use round() function ) ● Sample run ● >>Enter the number of favorable outcomes: 1 ● >>Enter the total number of possible outcomes: 2 ● >>Probability: 0.5"
      ],
      "metadata": {
        "id": "YHXgZPSKGORK"
      }
    },
    {
      "cell_type": "code",
      "source": [
        "nfo = float(input(\"Enter the number of favourable outcomes:\"))\n",
        "nto = float(input(\"Enter the total number of possible outcomes:\"))\n",
        "prb = nfo/nto\n",
        "print(\"Probability:\",round(prb,2))\n"
      ],
      "metadata": {
        "colab": {
          "base_uri": "https://localhost:8080/"
        },
        "id": "o1VdtowZGWGo",
        "outputId": "acfed53c-b836-48a8-b505-c107e2112fc3"
      },
      "execution_count": null,
      "outputs": [
        {
          "output_type": "stream",
          "name": "stdout",
          "text": [
            "Enter the number of favourable outcomes:1\n",
            "Enter the total number of possible outcomes:2\n",
            "Probability: 0.5\n"
          ]
        }
      ]
    },
    {
      "cell_type": "markdown",
      "source": [
        "The RTO (Regional Transport Office) website holds a registration form which is responsible for registering a user for a Driving License. The RTO wants to take the next step if and only if the user's age is greater than or equal to 18.\n",
        "So write a program in python to help the RTO find out whether the registered user's age is greater than or equal to 18 or not.\n"
      ],
      "metadata": {
        "id": "oJI1oOMeK8nI"
      }
    },
    {
      "cell_type": "code",
      "source": [
        "age = int(input(\"Enter the age:\"))\n",
        "if age >= 18:\n",
        "  print(\"You are Eligible for application for Driving License\")\n",
        "else:\n",
        "  print(\"You are  Not Eligible for application for Driving License\")"
      ],
      "metadata": {
        "colab": {
          "base_uri": "https://localhost:8080/"
        },
        "id": "xPLGIgAhMpb1",
        "outputId": "73822c1d-83d6-43f0-c1eb-4d5a88416b49"
      },
      "execution_count": null,
      "outputs": [
        {
          "output_type": "stream",
          "name": "stdout",
          "text": [
            "Enter the age:18\n",
            "You are Eligible for application for Driving License\n"
          ]
        }
      ]
    },
    {
      "cell_type": "markdown",
      "source": [
        "Scarlet, a fifteen year old, wants to be creative and is inspired by watching alexa, siri, google on how they act as smart chatbots and assistants and wanted to create her own chatbot. So write a program in python using the if-else, Nested if-else, if-else-if ladder where ever necessary.\n",
        "The Bot Has the Behave in following manner\n",
        "Step 1: ask the user for his/her name.\n",
        "Step 2: wish the user by telling his name For Ex: Hi My name is Jenni, chatbot. A Very Good Day To You username!!.\n",
        "Step 3: How are you feeling today??(Based on what user entered you are suppose to respond if user entered good statement then say something positive like.\"It's really a productive day to do something innovative and you are close to it. \"If the user says something negative then respond accordingly and try to cheer him up.\n",
        "\"Don't worry!! you got this username!!. buckle up and cheer yourself up. Good days are on their way. There is no beautiful rainbow without a heav.\n"
      ],
      "metadata": {
        "id": "Sq89Cqo7N9hv"
      }
    },
    {
      "cell_type": "code",
      "source": [
        "name = input(\"Enter your name:\")\n",
        "print(\"Hi, My name is Jenni, chatbot.A Very Good Day To You {}.\".format(name.capitalize()))\n",
        "feel = input(\"How are you feeling today?? \")\n",
        "if feel.upper() == 'GOOD':\n",
        "  print(\"It's really a productive day to do something innovative and you are close to it.\")\n",
        "else:\n",
        "  print(\"Don't worry!! you got this {}!!.Buckle up and cheer yourself up. Good days are on their way. There is no beautiful rainbow without a heav.\".format(name.capitalize()))\n"
      ],
      "metadata": {
        "colab": {
          "base_uri": "https://localhost:8080/"
        },
        "id": "Nn0a4kjqOBKw",
        "outputId": "e0a07e86-ae4c-48c7-eeb6-f5fb0c1f0230"
      },
      "execution_count": null,
      "outputs": [
        {
          "output_type": "stream",
          "name": "stdout",
          "text": [
            "Enter your name:Adharsh\n",
            "Hi, My name is Jenni, chatbot.A Very Good Day To You Adharsh.\n",
            "How are you feeling today?? Good\n",
            "It's really a productive day to do something innovative and you are close to it.\n"
          ]
        }
      ]
    },
    {
      "cell_type": "markdown",
      "source": [
        "Sir Osborne Smith is a Governor who takes care of Reserve Bank Of India, his son Rahul Smith, a 15 year old, was learning coding being a Governor of RBI Sir Osborne wanted to test the coding skills of Rahul Smith and asked him to write a python code for an ATM machine. But Rahul is confused with few of the concepts.\n",
        "So write a python code to explain how an ATM machine code works and to explain the concepts to Rahul\n",
        "bank_balance = 50000\n",
        "The ATM Machine should be having the following options:\n",
        "1) Withdraw : Withdraw amount that are multiples of 100 like 100, 200, 1000, 2000 and so on\n",
        "Note: throw error if user enters numbers like 111, 112, 781,etc as 1 rupees, 2 rupees, 10 rupees, 50 rupees are impossible in ATM\n",
        "2) Deposit Cash\n",
        "3) Balance Enquiry : Show the Account Balance\n",
        "4) Fast Cash : where there will be options on the screen like 5000, 10000, 15000, 20000, 25000, 30000, 40000, 45000, 50000 and the user can just select any one option so\n"
      ],
      "metadata": {
        "id": "cXrxnaMtZSJ_"
      }
    },
    {
      "cell_type": "code",
      "source": [
        "bank_balance = 50000\n",
        "print(\"ATM MACHINE\\n1.Withdraw\\n2.Deposit Cash\\n3.Balance Enquiry\\n4.Fast Cash\")\n",
        "opt = int(input(\"Enter Your Choice:\"))\n",
        "\n",
        "if opt == 1:\n",
        "  amnt = int(input(\"Enter the amount to Withdraw as multiples of 100 like 100, 200, 1000, 2000 and so on \"))\n",
        "  if amnt <= bank_balance:\n",
        "    if amnt >= 100 and amnt % 100 == 0:\n",
        "      bank_balance = bank_balance - amnt\n",
        "      print(\"Transaction Successful\\nWithdrawn: Rs{}\\nAvailable Balance: Rs{}\".format(amnt,bank_balance))\n",
        "    else:\n",
        "      print(\"Cannot Dispense Cash. Please Enter The Amount In Multiples Of 100 like 100, 200, 1000, 2000 and so on \")\n",
        "  else:\n",
        "    print(\"Insufficient Balance\")\n",
        "\n",
        "elif opt == 2:\n",
        "  amnt = int(input(\"Enter the amount to Deposit as multiples of 100 like 100, 200, 1000, 2000 and so on \"))\n",
        "  if amnt >= 100 and amnt % 100 == 0:\n",
        "    bank_balance = bank_balance + amnt\n",
        "    print(\"Transaction Successful\\nDeposit: Rs{}\\nAvailable Balance: Rs{}\".format(amnt,bank_balance))\n",
        "  else:\n",
        "    print(\"Cannot Deposit Cash. Please Enter The Amount In Multiples Of 100 like 100, 200, 1000, 2000 and so on \")\n",
        "\n",
        "elif opt==3:\n",
        "  print(\"Available Balance:{}\".format(bank_balance))\n",
        "\n",
        "elif opt == 4:\n",
        "  print(\"Select Any Option\\n1.5000\\n2.10000\\n3.15000\\n4.20000\\n5.25000\\n6.30000\\n7.40000\\n8.45000\\n9.50000\")\n",
        "  opt1 = int(input(\"Enter Your Choice:\"))\n",
        "  if opt1 == 1:\n",
        "    a = 5000\n",
        "    if a <= bank_balance:\n",
        "      bank_balance = bank_balance - a\n",
        "      print(\"Transaction Successful\\nWithdrawn: Rs{}\\nAvailable Balance: Rs{}\".format(a,bank_balance))\n",
        "    else:\n",
        "      print(\"Insufficient Balance\")\n",
        "  elif opt1 == 2:\n",
        "    a = 10000\n",
        "    if a <= bank_balance:\n",
        "      bank_balance = bank_balance - a\n",
        "      print(\"Transaction Successful\\nWithdrawn: Rs{}\\nAvailable Balance: Rs{}\".format(a,bank_balance))\n",
        "    else:\n",
        "      print(\"Insufficient Balance\")\n",
        "  elif opt1 == 3:\n",
        "    a = 15000\n",
        "    if a <= bank_balance:\n",
        "      bank_balance = bank_balance - a\n",
        "      print(\"Transaction Successful\\nWithdrawn: Rs{}\\nAvailable Balance: Rs{}\".format(a,bank_balance))\n",
        "    else:\n",
        "      print(\"Insufficient Balance\")\n",
        "  elif opt1 == 4:\n",
        "    a = 20000\n",
        "    if a <= bank_balance:\n",
        "      bank_balance = bank_balance - a\n",
        "      print(\"Transaction Successful\\nWithdrawn: Rs{}\\nAvailable Balance: Rs{}\".format(a,bank_balance))\n",
        "    else:\n",
        "      print(\"Insufficient Balance\")\n",
        "  elif opt1 == 5:\n",
        "    a = 25000\n",
        "    if a <= bank_balance:\n",
        "      bank_balance = bank_balance - a\n",
        "      print(\"Transaction Successful\\nWithdrawn: Rs{}\\nAvailable Balance: Rs{}\".format(a,bank_balance))\n",
        "    else:\n",
        "      print(\"Insufficient Balance\")\n",
        "  elif opt1 == 6:\n",
        "    a = 30000\n",
        "    if a <= bank_balance:\n",
        "      bank_balance = bank_balance - a\n",
        "      print(\"Transaction Successful\\nWithdrawn: Rs{}\\nAvailable Balance: Rs{}\".format(a,bank_balance))\n",
        "    else:\n",
        "      print(\"Insufficient Balance\")\n",
        "  elif opt1 == 7:\n",
        "    a = 40000\n",
        "    if a <= bank_balance:\n",
        "      bank_balance = bank_balance - a\n",
        "      print(\"Transaction Successful\\nWithdrawn: Rs{}\\nAvailable Balance: Rs{}\".format(a,bank_balance))\n",
        "    else:\n",
        "      print(\"Insufficient Balance\")\n",
        "  elif opt1 == 8:\n",
        "    a = 45000\n",
        "    if a <= bank_balance:\n",
        "      bank_balance = bank_balance - a\n",
        "      print(\"Transaction Successful\\nWithdrawn: Rs{}\\nAvailable Balance: Rs{}\".format(a,bank_balance))\n",
        "    else:\n",
        "      print(\"Insufficient Balance\")\n",
        "  elif opt1 == 9:\n",
        "    a = 50000\n",
        "    if a <= bank_balance:\n",
        "      bank_balance = bank_balance - a\n",
        "      print(\"Transaction Successful\\nWithdrawn: Rs{}\\nAvailable Balance: Rs{}\".format(a,bank_balance))\n",
        "    else:\n",
        "      print(\"Insufficient Balance\")\n",
        "  else:\n",
        "    print(\"Choose Valid Option\")\n",
        "else:\n",
        "  print(\"Choose Valid Option\")\n",
        "\n",
        "\n",
        "\n",
        "\n",
        "\n"
      ],
      "metadata": {
        "colab": {
          "base_uri": "https://localhost:8080/"
        },
        "id": "lKZ2oFRiZgxJ",
        "outputId": "85157440-4624-44ac-f8dd-e5d80b9bd406"
      },
      "execution_count": null,
      "outputs": [
        {
          "output_type": "stream",
          "name": "stdout",
          "text": [
            "ATM MACHINE\n",
            "1.Withdraw\n",
            "2.Deposit Cash\n",
            "3.Balance Enquiry\n",
            "4.Fast Cash\n",
            "Enter Your Choice:4\n",
            "Select Any Option\n",
            "1.5000\n",
            "2.10000\n",
            "3.15000\n",
            "4.20000\n",
            "5.25000\n",
            "6.30000\n",
            "7.40000\n",
            "8.45000\n",
            "9.50000\n",
            "Enter Your Choice:7\n",
            "Transaction Successful\n",
            "Withdrawn: Rs40000\n",
            "Available Balance: Rs10000\n"
          ]
        }
      ]
    },
    {
      "cell_type": "markdown",
      "source": [
        "Jack, a 19 year old, has learnt python. He has written a code using python that will literally accept color names as an input from the user and prints all of the colors. Jack is still thinking of a logic and whenever the color is red hence he wrote a if condition inside a for loop but the compiler started throwing an error stating that if condition cannot be left empty.\n",
        "So write a python program to help Jack to keep his if condition empty temporarily and print rest of the colors using a for loop\n"
      ],
      "metadata": {
        "id": "RXX_2lanH-rX"
      }
    },
    {
      "cell_type": "code",
      "source": [
        "colors = ['black', 'violet', 'green', 'yellow', 'orange', 'red', 'purple', 'pink']\n",
        "for i in colors:\n",
        "    if i == 'red':\n",
        "        pass\n",
        "    else:\n",
        "        print(i)"
      ],
      "metadata": {
        "colab": {
          "base_uri": "https://localhost:8080/"
        },
        "id": "CTlMLbJjG1RI",
        "outputId": "855c65a4-25e7-46b5-c329-44ba1bd81672"
      },
      "execution_count": null,
      "outputs": [
        {
          "output_type": "stream",
          "name": "stdout",
          "text": [
            "black\n",
            "violet\n",
            "green\n",
            "yellow\n",
            "orange\n",
            "purple\n",
            "pink\n"
          ]
        }
      ]
    },
    {
      "cell_type": "markdown",
      "source": [
        "Yash and Vishal have invested 10000$ in their bank. Yash is getting 6% simple interest from his bank and Vishal is getting 6% compound interest from his bank. Write a python program to calculate the difference in their returns after 30 years. What is the difference in their return in one year? What is the reason for this difference? Discuss ● Hint: Use the following parameters to calculate interest ● Principal amount ● Time ● Rate of interest"
      ],
      "metadata": {
        "id": "vnXVJdaFLU93"
      }
    },
    {
      "cell_type": "code",
      "source": [
        "principal_amnt = 10000\n",
        "rate = 6/100\n",
        "time = 30\n",
        "siy = principal_amnt * rate * time\n",
        "print(\"Simple Interest of Yash:\",siy)\n",
        "civ = principal_amnt * ((1 + rate) ** time - 1)\n",
        "print(\"Compound Interest of Vishal:\",civ)\n",
        "dif_30 = civ - siy\n",
        "print(\"Difference in returns after 30 years is {}\".format(dif_30))\n",
        "dif_1 = (civ - siy) / time\n",
        "print(\"Difference in returns after a year is {}\".format(dif_1))\n"
      ],
      "metadata": {
        "colab": {
          "base_uri": "https://localhost:8080/"
        },
        "id": "V0vHzETELfCG",
        "outputId": "91149769-bc43-435e-e7b7-ab6ab4206da6"
      },
      "execution_count": null,
      "outputs": [
        {
          "output_type": "stream",
          "name": "stdout",
          "text": [
            "Simple Interest of Yash: 18000.0\n",
            "Compound Interest of Vishal: 47434.91172913258\n",
            "Difference in returns after 30 years is 29434.911729132582\n",
            "Difference in returns after a year is 981.1637243044194\n"
          ]
        }
      ]
    },
    {
      "cell_type": "markdown",
      "source": [
        " Nidhi's father is not able to calculate his annual tax correctly. He is a bit confused with the taxation rule also each year his total annual income is different. So to help her father Nidhi decides to write a python program that can calculate the tax to be paid based on annual income. Write the same program to calculate the tax to be paid based on annual income. ● Hint: take the annual income as input from the user and print the amount of tax to be paid. These are tax rules."
      ],
      "metadata": {
        "id": "NK3My4yEVkE7"
      }
    },
    {
      "cell_type": "code",
      "source": [
        "annual_income = int(input(\"Enter the annual income:\"))\n",
        "if annual_income >= 300000 and annual_income < 600000:\n",
        "  tax = annual_income * 5 / 100\n",
        "  print(\"Amount of tax to be paid {}\".format(tax))\n",
        "elif annual_income >= 600000 and annual_income < 900000:\n",
        "  tax = annual_income * 10 / 100\n",
        "  print(\"Amount of tax to be paid {}\".format(tax))\n",
        "elif annual_income >= 900000 and annual_income < 1200000:\n",
        "  tax = annual_income * 15 / 100\n",
        "  print(\"Amount of tax to be paid {}\".format(tax))\n",
        "elif annual_income >= 1200000 and annual_income < 1500000:\n",
        "  tax = annual_income * 20 / 100\n",
        "  print(\"Amount of tax to be paid {}\".format(tax))\n",
        "elif annual_income >= 1500000:\n",
        "  tax = annual_income * 30 / 100\n",
        "  print(\"Amount of tax to be paid {}\".format(tax))\n",
        "else:\n",
        "  print(\"For Income Less Than 300000, No Tax Amount is Applicable\")"
      ],
      "metadata": {
        "id": "3FUssNaTVphs",
        "colab": {
          "base_uri": "https://localhost:8080/"
        },
        "outputId": "62779ca0-3cb1-4d5c-d09a-2f94d634c1c3"
      },
      "execution_count": null,
      "outputs": [
        {
          "output_type": "stream",
          "name": "stdout",
          "text": [
            "Enter the annual income:1153649\n",
            "Amount of tax to be paid 173047.35\n"
          ]
        }
      ]
    },
    {
      "cell_type": "markdown",
      "source": [
        "Shubham is worried about his health. He keeps checking his height and weight daily. Recently he came to know about the BMI report, and now he wants to calculate his own BMI by writing a python program. Write a program in python to check your BMI by putting your height and weight as input. ● Note: ● Body Mass Index is a simple calculation using a person's height and weight. The formula is BMI = kg/m2 where kg is a person's weight in kilograms and m2 is their height in meters squared. A BMI of 25.0 or more is overweight, while the healthy range is 18.5 to 24.9. BMI applies to most adults 18-65 years."
      ],
      "metadata": {
        "id": "yrQcnIr4PvcY"
      }
    },
    {
      "cell_type": "code",
      "source": [
        "print(\"Body Mass Index Calculator\")\n",
        "weight = float(input(\"Enter your weight in Kilograms:\"))\n",
        "height = float(input(\"Enter your height in Meters:\"))\n",
        "bmi = weight / height**2\n",
        "if bmi >= 25.0:\n",
        "  print(\"Overweight\")\n",
        "elif bmi>=18.5 and bmi < 25.0:\n",
        "  print(\"Healthy\")\n",
        "else:\n",
        "  print(\"Underweight\")"
      ],
      "metadata": {
        "colab": {
          "base_uri": "https://localhost:8080/"
        },
        "id": "Y1kmK7Y2P1Jc",
        "outputId": "a232e5cd-11fd-4fff-d60f-3ddb8d25498c"
      },
      "execution_count": null,
      "outputs": [
        {
          "output_type": "stream",
          "name": "stdout",
          "text": [
            "Body Mass Index Calculator\n",
            "Enter your weight in Kilograms:55\n",
            "Enter your height in Meters:1.69\n",
            "Healthy\n"
          ]
        }
      ]
    },
    {
      "cell_type": "markdown",
      "source": [
        "A year consists of 365 days. But once in every four years, it consists of 366 days. And that is known as a leap year. Shisha wants to know whether the current year is a leap year or not. She found that any year divisible by 4 is a leap year, if the year is divisible by 100 then it will not be a leap year, and if the year is divisible by 400 then it will be a leap year. Write a program in python to check whether the given year is a leap year or not to help Shisha. ● Hint: Use if elif else condition"
      ],
      "metadata": {
        "id": "e-jwLMB9TpGA"
      }
    },
    {
      "cell_type": "code",
      "source": [
        "curr_yr = int(input(\"Enter the current year:\"))\n",
        "if curr_yr % 4 == 0 or curr_yr % 400 == 0:\n",
        "  print(\"Leap Year\")\n",
        "elif curr_yr % 100 == 0:\n",
        "  print(\"Not an Leap Year\")\n",
        "else:\n",
        "  print(\"Not an Leap Year\")"
      ],
      "metadata": {
        "colab": {
          "base_uri": "https://localhost:8080/"
        },
        "id": "scsZcY2xTtvr",
        "outputId": "7dc176f8-044a-479a-c828-aed10863447d"
      },
      "execution_count": null,
      "outputs": [
        {
          "output_type": "stream",
          "name": "stdout",
          "text": [
            "Enter the current year:2024\n",
            "Leap Year\n"
          ]
        }
      ]
    }
  ]
}