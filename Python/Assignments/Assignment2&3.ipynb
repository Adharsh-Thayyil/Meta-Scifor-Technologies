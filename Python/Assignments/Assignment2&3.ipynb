{
  "nbformat": 4,
  "nbformat_minor": 0,
  "metadata": {
    "colab": {
      "provenance": [],
      "authorship_tag": "ABX9TyOqvcrCuU0cYc2W8B0o/HUF"
    },
    "kernelspec": {
      "name": "python3",
      "display_name": "Python 3"
    },
    "language_info": {
      "name": "python"
    }
  },
  "cells": [
    {
      "cell_type": "markdown",
      "source": [
        "# **Assignment-2**"
      ],
      "metadata": {
        "id": "9dXrWP6EuyRZ"
      }
    },
    {
      "cell_type": "markdown",
      "source": [
        "Its childrens day and the class teacher wanted to share chocolates with the entire class the details are as follows,The number of chocolates with the teacher are = 327 Number of kids in the class are = 78. Write a program to perform modulus division using (%) modulus operator and find out how many chocolates are remaining with the teacher after equally distributing 327 chocolates to 78 students."
      ],
      "metadata": {
        "id": "TW-cgnFLvVTa"
      }
    },
    {
      "cell_type": "code",
      "execution_count": null,
      "metadata": {
        "colab": {
          "base_uri": "https://localhost:8080/"
        },
        "id": "FNvFxY4jueSH",
        "outputId": "d35c953b-f7e7-496e-fc2d-6e4d3234b700"
      },
      "outputs": [
        {
          "output_type": "stream",
          "name": "stdout",
          "text": [
            "Enter the No. choclates:327\n",
            "Enter the No. students:78\n",
            "Remaining choclates with the teacher: 15\n"
          ]
        }
      ],
      "source": [
        "cho = int(input(\"Enter the No. choclates:\"))\n",
        "stu = int(input(\"Enter the No. students:\"))\n",
        "rem = cho % stu\n",
        "print(\"Remaining choclates with the teacher:\",rem)\n"
      ]
    },
    {
      "cell_type": "markdown",
      "source": [
        "It's Domino's 25th Anniversary and is planning for a big give away and in order to choose the lucky draw winner Domino's first needs to collect all of its customer details. On collecting the customer details Domino's even wants to thank each and every customer for visiting as soon as they entered their details.Write a program to accept customer details like customer name, customer mobile number, customer age, customer email Id.On successfully receiving all the customer information write a print() to thank the customer by using his name for example\"Hi\", customerName,\"!! Thanks for visiting our restaurant and registering for our lucky draw competition on our 25th Anniversary.\"\"Once the lucky draw results are announced you will receive a message on your mobile number :\",customerMobileNumber\"An detailed description of your gift on your email Id :\",customerEmailId\"Thank you for being a valued customer\",customerName,\"!!\"\"Dominos\""
      ],
      "metadata": {
        "id": "WjnXkNLY6h10"
      }
    },
    {
      "cell_type": "code",
      "source": [
        "cust_name = input(\"Enter your name:\")\n",
        "mob = int(input(\"Enter mobile no:\"))\n",
        "age = int(input(\"Enter your age:\"))\n",
        "ema = input(\"Enter your Email-ID:\")\n",
        "print(\"Hi,\" +cust_name+ \"!! Thanks for visiting our restaurant and registering for our lucky draw competition on our 25th Anniversary.Once the lucky draw results are announced you will receive a message on your mobile number:\"+str(mob)+\".An detailed description of your gift on your email Id :\"+ema+\".Thank you for being a valued customer,\"+cust_name+\"!!Dominos\")"
      ],
      "metadata": {
        "colab": {
          "base_uri": "https://localhost:8080/"
        },
        "id": "7ebNMJQ26oT9",
        "outputId": "49238404-2062-47f8-b9cb-04bf72e14b2d"
      },
      "execution_count": null,
      "outputs": [
        {
          "output_type": "stream",
          "name": "stdout",
          "text": [
            "Enter your name:Adharsh Thayyil\n",
            "Enter mobile no:9876543210\n",
            "Enter your age:26\n",
            "Enter your Email-ID:abc@xyz.com\n",
            "Hi,Adharsh Thayyil!! Thanks for visiting our restaurant and registering for our lucky draw competition on our 25th Anniversary.Once the lucky draw results are announced you will receive a message on your mobile number:9876543210.An detailed description of your gift on your email Id :abc@xyz.com.Thank you for being a valued customer,Adharsh Thayyil!!Dominos\n"
          ]
        }
      ]
    },
    {
      "cell_type": "markdown",
      "source": [
        "Teacher wants to conduct a quiz activity in her class. For that she is planning to group 4 students for each team among 60 students. She wants to know how many teams she can create among 60 students.Write a program to find the total number of teams that can be created among students by dividing total number of students to the number of students per team.Total number of student = 60 Number of students per team =4\n"
      ],
      "metadata": {
        "id": "DKvH1VAf_7bR"
      }
    },
    {
      "cell_type": "code",
      "source": [
        "tot_stu = 60\n",
        "team_stu = 4\n",
        "print(\"Total No. students in the class:\",tot_stu)\n",
        "print(\"No. students per team:\",team_stu)\n",
        "print(\"Total No. teams:\",tot_stu//team_stu)"
      ],
      "metadata": {
        "colab": {
          "base_uri": "https://localhost:8080/"
        },
        "id": "18_OE2qCAIcx",
        "outputId": "4233a575-1d66-40b4-f963-d44fe367d7c9"
      },
      "execution_count": null,
      "outputs": [
        {
          "output_type": "stream",
          "name": "stdout",
          "text": [
            "Total No. students in the class: 60\n",
            "No. students per team: 4\n",
            "Total No. teams: 15\n"
          ]
        }
      ]
    },
    {
      "cell_type": "markdown",
      "source": [
        "Nidhi loves to travel to different countries. She is now in a country where the temperature is measured in Fahrenheit and she is not able to understand it in a better way. To help her in this situation, write program to convert temperature from Fahrenheit to celsius. ● Hint: (0°C × 9/5) + 32 = 32°F"
      ],
      "metadata": {
        "id": "12ZsXN2dCGVq"
      }
    },
    {
      "cell_type": "code",
      "source": [
        "far = int(input(\"Enter the temperature in Fahrenheit °F:\"))\n",
        "print(\"Temperature in Celsius = \",(far - 32) * 5/9,\"°C\")"
      ],
      "metadata": {
        "colab": {
          "base_uri": "https://localhost:8080/"
        },
        "id": "WS6gR8cTCNxI",
        "outputId": "dcc3d083-ea8d-4698-8739-af5abf08d6f2"
      },
      "execution_count": null,
      "outputs": [
        {
          "output_type": "stream",
          "name": "stdout",
          "text": [
            "Enter the temperature in Fahrenheit °F:100\n",
            "Temperature in Celsius =  37.77777777777778 °C\n"
          ]
        }
      ]
    },
    {
      "cell_type": "markdown",
      "source": [
        "# **Assignment-3**"
      ],
      "metadata": {
        "id": "6A3rLjKvGXmW"
      }
    },
    {
      "cell_type": "markdown",
      "source": [
        "A palindrome is a word, number, phrase, or other sequence of characters that reads the same backward as forward, such as madam or racecar. Arunima got a new puppy (pet) and she wants to decide the name for her pet. The name of the pet should be a palindrome. Write a program to take the pet name as input and print \"true\" if it is palindrome or print \"false\" on screen. Help Arunima to decide the name ( should be palindrome ) of the puppy. Hint: reverse the name and compare it with the original name."
      ],
      "metadata": {
        "id": "0LEANWomGwM8"
      }
    },
    {
      "cell_type": "code",
      "source": [
        "name = input(\"Enter your pet name:\")\n",
        "rev_name = (name[::-1])\n",
        "print(name == rev_name)"
      ],
      "metadata": {
        "colab": {
          "base_uri": "https://localhost:8080/"
        },
        "id": "beVLCE8RG2Pp",
        "outputId": "a6e6b18f-49ad-455b-a236-eb818af876db"
      },
      "execution_count": null,
      "outputs": [
        {
          "output_type": "stream",
          "name": "stdout",
          "text": [
            "Enter your pet name:bob\n",
            "True\n"
          ]
        }
      ]
    },
    {
      "cell_type": "markdown",
      "source": [
        "Aarush and Yash are two friends in the same grade and they decided to create their secret language to communicate with each other. First of all, they decided to reverse each word. For example: come here = \"emoc ereh\". But this was very easy to understand for other students. They tried to make it a bit difficult and decided to put all the characters which are at odd indices first then all the characters which are at even indices. For example: come here = \"oecm eehr\". Write a program in python to create such type of secret language and convert the word Codeyoung into secret language using the same program. Can we convert the secret language back to normal language using python? Discuss"
      ],
      "metadata": {
        "id": "cIhfqKFROhRM"
      }
    },
    {
      "cell_type": "code",
      "source": [
        "wrd = input(\"Enter the word:\")\n",
        "sec_lan = wrd[1::2] + wrd[::2] # converting word to secret language\n",
        "print(\"Secret Language:\",sec_lan)"
      ],
      "metadata": {
        "colab": {
          "base_uri": "https://localhost:8080/"
        },
        "id": "caRCUlqyOnGU",
        "outputId": "6f227dd2-6863-45c1-c0f3-31e654965e93"
      },
      "execution_count": null,
      "outputs": [
        {
          "output_type": "stream",
          "name": "stdout",
          "text": [
            "Enter the word:Codeyoung\n",
            "Secret Language: oeonCdyug\n"
          ]
        }
      ]
    },
    {
      "cell_type": "markdown",
      "source": [
        "Vishal is creating a form and he wants to take the contact number as input. However, some people do not enter the number properly. Vishal is confused about how to verify whether the given number is in the correct format or not. To help Vishal write a python program to show how we can verify whether a given phone number is valid or not. ● Note: A valid phone number contains 10 digits with 9,8 or 7 as the first digit. Phone number only contains numbers and not any character. ● Hint: ● User len() function to verify the number of digits. ● Use isnumeric() function to check it only contains numeric values.Use indexing to check whether the first character is 9,8 or 7 or not.\n"
      ],
      "metadata": {
        "id": "FJhH-JCIjrZB"
      }
    },
    {
      "cell_type": "code",
      "source": [
        "num = input(\"Enter your phone number:\")\n",
        "length = len(num)\n",
        "print(length == 10 and num.isnumeric() and num[0] in ['9','8','7'])\n",
        "\n"
      ],
      "metadata": {
        "colab": {
          "base_uri": "https://localhost:8080/"
        },
        "id": "QFUaczdIjw7j",
        "outputId": "1779394b-93b1-4b5a-b079-903f95a420da"
      },
      "execution_count": null,
      "outputs": [
        {
          "output_type": "stream",
          "name": "stdout",
          "text": [
            "Enter your phone number:9876543210\n",
            "True\n"
          ]
        }
      ]
    }
  ]
}