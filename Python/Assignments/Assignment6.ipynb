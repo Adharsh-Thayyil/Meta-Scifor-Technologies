{
  "nbformat": 4,
  "nbformat_minor": 0,
  "metadata": {
    "colab": {
      "provenance": [],
      "authorship_tag": "ABX9TyNerjB4PIm7DAi9jyBZVAhk"
    },
    "kernelspec": {
      "name": "python3",
      "display_name": "Python 3"
    },
    "language_info": {
      "name": "python"
    }
  },
  "cells": [
    {
      "cell_type": "markdown",
      "source": [
        "# **Sets**"
      ],
      "metadata": {
        "id": "EQCsoxMIV-_J"
      }
    },
    {
      "cell_type": "code",
      "execution_count": null,
      "metadata": {
        "colab": {
          "base_uri": "https://localhost:8080/"
        },
        "id": "pJXIKxcpU3qF",
        "outputId": "7275cc71-d8fe-49f0-a869-b43f7e75390a"
      },
      "outputs": [
        {
          "output_type": "stream",
          "name": "stdout",
          "text": [
            "{'a', 'c', 'b'}\n"
          ]
        }
      ],
      "source": [
        "x = {\"a\",\"b\",\"c\"}\n",
        "print(x)"
      ]
    },
    {
      "cell_type": "code",
      "source": [
        "# Unordered\n",
        "x = {\"a\",\"b\",\"c\"}\n",
        "print(x)"
      ],
      "metadata": {
        "colab": {
          "base_uri": "https://localhost:8080/"
        },
        "id": "dWl3Oo85WVvd",
        "outputId": "5b672713-7fbc-451b-e86a-3c7847558d6c"
      },
      "execution_count": null,
      "outputs": [
        {
          "output_type": "stream",
          "name": "stdout",
          "text": [
            "{'a', 'c', 'b'}\n"
          ]
        }
      ]
    },
    {
      "cell_type": "code",
      "source": [
        "# Unindexed\n",
        "x = {\"a\",\"b\",\"c\"}\n",
        "x[0] = \"i\"\n",
        "print(x)\n",
        "# O/P will be error. 'set' object does not support item assignment"
      ],
      "metadata": {
        "id": "-NVrjhWqWYcA"
      },
      "execution_count": null,
      "outputs": []
    },
    {
      "cell_type": "code",
      "source": [
        "# Unchangable\n",
        "x = {\"a\",\"b\",\"c\"}\n",
        "x[0] = \"i\"\n",
        "print(x)\n",
        "# O/P will be error. 'set' object does not support item assignment"
      ],
      "metadata": {
        "id": "skSuV2AzWe1F"
      },
      "execution_count": null,
      "outputs": []
    },
    {
      "cell_type": "code",
      "source": [
        "# Duplicates Not Allowed\n",
        "# Duplicate values will be ignored:\n",
        "# The values True and 1, False and 0 are considered the same value in sets, and are treated as duplicate\n",
        "\n",
        "x = {\"a\",\"b\",\"a\",1,0,True,False,\"c\",\"d\"}\n",
        "print(x)"
      ],
      "metadata": {
        "colab": {
          "base_uri": "https://localhost:8080/"
        },
        "id": "AKX1M8IxWlYS",
        "outputId": "5479e838-dc30-454d-fb0d-7cd88c0ab2ae"
      },
      "execution_count": null,
      "outputs": [
        {
          "output_type": "stream",
          "name": "stdout",
          "text": [
            "{0, 1, 'a', 'd', 'b', 'c'}\n"
          ]
        }
      ]
    },
    {
      "cell_type": "markdown",
      "source": [
        "## Get the Length of a Set - len()"
      ],
      "metadata": {
        "id": "tHm0wkRIXbaE"
      }
    },
    {
      "cell_type": "code",
      "source": [
        "x = {\"a\",\"b\",True,False}\n",
        "print(len(x))"
      ],
      "metadata": {
        "colab": {
          "base_uri": "https://localhost:8080/"
        },
        "id": "3qmwM81uXhv2",
        "outputId": "58021709-457c-4014-d53e-9a56fdcd64d5"
      },
      "execution_count": null,
      "outputs": [
        {
          "output_type": "stream",
          "name": "stdout",
          "text": [
            "4\n"
          ]
        }
      ]
    },
    {
      "cell_type": "code",
      "source": [
        "x = {\"a\",\"b\",0,1,True,False}\n",
        "print(len(x))"
      ],
      "metadata": {
        "colab": {
          "base_uri": "https://localhost:8080/"
        },
        "id": "iQ5AT3ONXrDr",
        "outputId": "5803f387-f555-40e2-a52e-f90464667f29"
      },
      "execution_count": null,
      "outputs": [
        {
          "output_type": "stream",
          "name": "stdout",
          "text": [
            "4\n"
          ]
        }
      ]
    },
    {
      "cell_type": "markdown",
      "source": [
        "## type()"
      ],
      "metadata": {
        "id": "E49Rpn0gX0HZ"
      }
    },
    {
      "cell_type": "code",
      "source": [
        "x = {\"a\",\"b\",\"c\",1,0,42.5}\n",
        "print(type(x))"
      ],
      "metadata": {
        "colab": {
          "base_uri": "https://localhost:8080/"
        },
        "id": "J0sofPjpX4Y8",
        "outputId": "0ef13bfb-5864-4005-a2e4-c3b9d6498903"
      },
      "execution_count": null,
      "outputs": [
        {
          "output_type": "stream",
          "name": "stdout",
          "text": [
            "<class 'set'>\n"
          ]
        }
      ]
    },
    {
      "cell_type": "markdown",
      "source": [
        "## The set() Constructor"
      ],
      "metadata": {
        "id": "lCaXRaS1YEpm"
      }
    },
    {
      "cell_type": "code",
      "source": [
        "set1 = set((\"a\", \"b\", \"c\",1,4,True))\n",
        "print(set1)"
      ],
      "metadata": {
        "colab": {
          "base_uri": "https://localhost:8080/"
        },
        "id": "Qz4f3TpBYGoN",
        "outputId": "65f2bf65-24aa-46da-abdb-2c431273f26d"
      },
      "execution_count": null,
      "outputs": [
        {
          "output_type": "stream",
          "name": "stdout",
          "text": [
            "{1, 4, 'c', 'a', 'b'}\n"
          ]
        }
      ]
    },
    {
      "cell_type": "markdown",
      "source": [
        "## Access Items"
      ],
      "metadata": {
        "id": "zA5YNowTYeq2"
      }
    },
    {
      "cell_type": "code",
      "source": [
        "set1 = {\"a\", \"b\", \"c\",1,4,True}\n",
        "for x in set1:\n",
        "  print(x)"
      ],
      "metadata": {
        "colab": {
          "base_uri": "https://localhost:8080/"
        },
        "id": "kx4nFJ3IYgqJ",
        "outputId": "6f043601-5f7d-4b3b-958f-9066a8d791b1"
      },
      "execution_count": null,
      "outputs": [
        {
          "output_type": "stream",
          "name": "stdout",
          "text": [
            "1\n",
            "a\n",
            "4\n",
            "b\n",
            "c\n"
          ]
        }
      ]
    },
    {
      "cell_type": "code",
      "source": [
        "set1 = {\"a\", \"b\", \"c\",1,4,True}\n",
        "print(\"c\" in set1)"
      ],
      "metadata": {
        "colab": {
          "base_uri": "https://localhost:8080/"
        },
        "id": "wq4wGEHeYwbE",
        "outputId": "7edf8ade-84de-473f-ff54-62fc21f3b70b"
      },
      "execution_count": null,
      "outputs": [
        {
          "output_type": "stream",
          "name": "stdout",
          "text": [
            "True\n"
          ]
        }
      ]
    },
    {
      "cell_type": "markdown",
      "source": [
        "# Add Set Items\n",
        "## Add Items"
      ],
      "metadata": {
        "id": "PdrrnfNQZOmC"
      }
    },
    {
      "cell_type": "code",
      "source": [
        "set1 = {\"a\", \"b\", \"c\",1,4,True}\n",
        "set1.add(\"d\")\n",
        "print(set1)"
      ],
      "metadata": {
        "colab": {
          "base_uri": "https://localhost:8080/"
        },
        "id": "Vyin3fqpZdCv",
        "outputId": "e045111f-754a-4c96-f35f-ce5eb3974832"
      },
      "execution_count": null,
      "outputs": [
        {
          "output_type": "stream",
          "name": "stdout",
          "text": [
            "{1, 'a', 4, 'd', 'b', 'c'}\n"
          ]
        }
      ]
    },
    {
      "cell_type": "markdown",
      "source": [
        "## Add Sets"
      ],
      "metadata": {
        "id": "1dux8DNeZjbe"
      }
    },
    {
      "cell_type": "code",
      "source": [
        "set1 = {\"a\", \"b\", \"c\",1,4,True}\n",
        "set2 = {\"d\", \"e\", \"f\",7,9}\n",
        "set1.update(set2)\n",
        "print(set1)"
      ],
      "metadata": {
        "colab": {
          "base_uri": "https://localhost:8080/"
        },
        "id": "biyZ3RA1ZixQ",
        "outputId": "607455fc-8a73-417f-b216-107f5664e5a0"
      },
      "execution_count": null,
      "outputs": [
        {
          "output_type": "stream",
          "name": "stdout",
          "text": [
            "{1, 4, 'd', 'e', 7, 'f', 9, 'c', 'a', 'b'}\n"
          ]
        }
      ]
    },
    {
      "cell_type": "markdown",
      "source": [
        "## Add Any Iterable (lists,tuples,dictiopnary)\n",
        "\n"
      ],
      "metadata": {
        "id": "xynqGnIoZzgF"
      }
    },
    {
      "cell_type": "code",
      "source": [
        "# Add elements of a list to at set:\n",
        "set1 = {\"a\", \"b\", \"c\",1,4,True}\n",
        "list1 = [\"d\", \"e\", \"f\",7,9]\n",
        "set1.update(list1)\n",
        "print(set1)"
      ],
      "metadata": {
        "colab": {
          "base_uri": "https://localhost:8080/"
        },
        "id": "NHdE6gKEaIhX",
        "outputId": "fe139409-6740-4530-8837-d1b21aecc8ed"
      },
      "execution_count": null,
      "outputs": [
        {
          "output_type": "stream",
          "name": "stdout",
          "text": [
            "{1, 4, 7, 9, 'c', 'a', 'b', 'd', 'e', 'f'}\n"
          ]
        }
      ]
    },
    {
      "cell_type": "code",
      "source": [
        "# Add elements of a tuple to at set:\n",
        "set1 = {\"a\", \"b\", \"c\",1,4,True}\n",
        "tuple1 = (\"d\", \"e\", \"f\",7,9)\n",
        "set1.update(tuple1)\n",
        "print(set1)"
      ],
      "metadata": {
        "colab": {
          "base_uri": "https://localhost:8080/"
        },
        "id": "TnUKNI73aLl3",
        "outputId": "a707f5e2-5861-43c7-b55f-61e3cfa3f623"
      },
      "execution_count": null,
      "outputs": [
        {
          "output_type": "stream",
          "name": "stdout",
          "text": [
            "{1, 4, 7, 9, 'c', 'a', 'b', 'd', 'e', 'f'}\n"
          ]
        }
      ]
    },
    {
      "cell_type": "code",
      "source": [
        "# Add elements of a dictionary to at set:\n",
        "set1 = {\"a\", \"b\", \"c\",1,4,True}\n",
        "dict1 = {1:\"d\",2:\"e\",3:\"f\",4:7,5:9}\n",
        "set1.update(dict1)\n",
        "print(set1)"
      ],
      "metadata": {
        "colab": {
          "base_uri": "https://localhost:8080/"
        },
        "id": "92jtdoCkaPj4",
        "outputId": "c41c9c17-b2f5-454a-dfc9-1c1fa6ec9ab4"
      },
      "execution_count": null,
      "outputs": [
        {
          "output_type": "stream",
          "name": "stdout",
          "text": [
            "{1, 2, 3, 4, 5, 'c', 'a', 'b'}\n"
          ]
        }
      ]
    },
    {
      "cell_type": "markdown",
      "source": [
        "## Remove Item"
      ],
      "metadata": {
        "id": "_PPZCpAwaggR"
      }
    },
    {
      "cell_type": "code",
      "source": [
        "set1 = {\"a\", \"b\", \"c\",1,4,True}\n",
        "set1.remove(\"b\")\n",
        "print(set1)"
      ],
      "metadata": {
        "colab": {
          "base_uri": "https://localhost:8080/"
        },
        "id": "P15M0TG_aodh",
        "outputId": "39468e94-efc6-4fb4-fecd-cec9550b1fea"
      },
      "execution_count": null,
      "outputs": [
        {
          "output_type": "stream",
          "name": "stdout",
          "text": [
            "{1, 'a', 4, 'c'}\n"
          ]
        }
      ]
    },
    {
      "cell_type": "code",
      "source": [
        "set1 = {\"a\", \"b\", \"c\",1,4,True}\n",
        "set1.remove(\"d\")\n",
        "print(set1)\n",
        "# O/P will be error.If the item to remove does not exist, remove() will raise an error."
      ],
      "metadata": {
        "id": "7kxKpq4Ua0wm"
      },
      "execution_count": null,
      "outputs": []
    },
    {
      "cell_type": "code",
      "source": [
        "set1 = {\"a\", \"b\", \"c\",1,4,True}\n",
        "set1.discard(\"b\")\n",
        "print(set1)"
      ],
      "metadata": {
        "colab": {
          "base_uri": "https://localhost:8080/"
        },
        "id": "pRE1CaGAa5Ia",
        "outputId": "d3867719-bb17-4a84-8130-2cfe986e1ad3"
      },
      "execution_count": null,
      "outputs": [
        {
          "output_type": "stream",
          "name": "stdout",
          "text": [
            "{1, 'a', 4, 'c'}\n"
          ]
        }
      ]
    },
    {
      "cell_type": "code",
      "source": [
        "set1 = {\"a\", \"b\", \"c\",1,4,True}\n",
        "set1.discard(\"d\")\n",
        "print(set1)\n",
        "# O/P will not be an error. If the item to remove does not exist, discard() will NOT raise an error."
      ],
      "metadata": {
        "colab": {
          "base_uri": "https://localhost:8080/"
        },
        "id": "WZwO04r4a-fh",
        "outputId": "a189f5de-3495-409e-e313-4be71f5d4d07"
      },
      "execution_count": null,
      "outputs": [
        {
          "output_type": "stream",
          "name": "stdout",
          "text": [
            "{1, 'a', 4, 'b', 'c'}\n"
          ]
        }
      ]
    },
    {
      "cell_type": "code",
      "source": [
        "set1 = {\"a\", \"b\", \"c\",1,4,True}\n",
        "set1.pop()\n",
        "print(set1)"
      ],
      "metadata": {
        "colab": {
          "base_uri": "https://localhost:8080/"
        },
        "id": "QG8btUVKbFPF",
        "outputId": "b53e4a9b-2271-4297-9269-a17fc634f6b4"
      },
      "execution_count": null,
      "outputs": [
        {
          "output_type": "stream",
          "name": "stdout",
          "text": [
            "{'a', 4, 'b', 'c'}\n"
          ]
        }
      ]
    },
    {
      "cell_type": "code",
      "source": [
        "set1 = {\"a\", \"b\", \"c\",1,4,True}\n",
        "set1.clear()\n",
        "print(set1)"
      ],
      "metadata": {
        "colab": {
          "base_uri": "https://localhost:8080/"
        },
        "id": "DwpkJ6bmc7wd",
        "outputId": "0d85029a-7847-457d-8174-caf5dc22e65d"
      },
      "execution_count": null,
      "outputs": [
        {
          "output_type": "stream",
          "name": "stdout",
          "text": [
            "set()\n"
          ]
        }
      ]
    },
    {
      "cell_type": "code",
      "source": [
        "set1 = {\"a\", \"b\", \"c\",1,4,True}\n",
        "del set1\n",
        "print(set1)  #this will raise an error because the set no longer exists"
      ],
      "metadata": {
        "id": "Tdn9pNRndBZi"
      },
      "execution_count": null,
      "outputs": []
    },
    {
      "cell_type": "markdown",
      "source": [
        "# **Join Sets**\n",
        "## Union"
      ],
      "metadata": {
        "id": "StLvoE3zdRgO"
      }
    },
    {
      "cell_type": "code",
      "source": [
        "set1 = {\"a\", \"b\", \"c\"}\n",
        "set2 = {1, 2, 3}\n",
        "set3 = set1.union(set2)\n",
        "print(set3)"
      ],
      "metadata": {
        "colab": {
          "base_uri": "https://localhost:8080/"
        },
        "id": "o6M9ulXtdb39",
        "outputId": "bcb42722-ef4a-46d0-a5db-bd54fa2c7db2"
      },
      "execution_count": null,
      "outputs": [
        {
          "output_type": "stream",
          "name": "stdout",
          "text": [
            "{1, 'a', 2, 3, 'b', 'c'}\n"
          ]
        }
      ]
    },
    {
      "cell_type": "code",
      "source": [
        "# Use | to join two sets:\n",
        "set1 = {\"a\", \"b\", \"c\"}\n",
        "set2 = {1, 2, 3}\n",
        "set3 = set1 | set2\n",
        "print(set3)"
      ],
      "metadata": {
        "colab": {
          "base_uri": "https://localhost:8080/"
        },
        "id": "ORW_JpNXdloM",
        "outputId": "9f2133e6-5699-4117-d98f-a100002bd630"
      },
      "execution_count": null,
      "outputs": [
        {
          "output_type": "stream",
          "name": "stdout",
          "text": [
            "{1, 'a', 2, 3, 'b', 'c'}\n"
          ]
        }
      ]
    },
    {
      "cell_type": "markdown",
      "source": [
        "## Join Multiple Sets"
      ],
      "metadata": {
        "id": "nYHq93jadp9N"
      }
    },
    {
      "cell_type": "code",
      "source": [
        "set1 = {\"a\", \"b\", \"c\"}\n",
        "set2 = {1, 2, 3}\n",
        "set3 = {45.6, 5.6}\n",
        "set4 = {30, False, True}\n",
        "\n",
        "set5 = set1.union(set2, set3, set4)\n",
        "print(set5)"
      ],
      "metadata": {
        "colab": {
          "base_uri": "https://localhost:8080/"
        },
        "id": "ECh8xC0udrSS",
        "outputId": "fd6eb33b-075b-4fcb-ab51-5564c6d714e4"
      },
      "execution_count": null,
      "outputs": [
        {
          "output_type": "stream",
          "name": "stdout",
          "text": [
            "{False, 1, 2, 3, 5.6, 'c', 45.6, 'a', 'b', 30}\n"
          ]
        }
      ]
    },
    {
      "cell_type": "code",
      "source": [
        "set1 = {\"a\", \"b\", \"c\"}\n",
        "set2 = {1, 2, 3}\n",
        "set3 = {45.6, 5.6}\n",
        "set4 = {30, False, True}\n",
        "\n",
        "set5 = set1 | set2 | set3 | set4\n",
        "print(set5)"
      ],
      "metadata": {
        "colab": {
          "base_uri": "https://localhost:8080/"
        },
        "id": "qN78IF3xeIi_",
        "outputId": "ba440c49-719a-4b00-8d26-f076372ef7fa"
      },
      "execution_count": null,
      "outputs": [
        {
          "output_type": "stream",
          "name": "stdout",
          "text": [
            "{False, 1, 2, 3, 5.6, 'c', 45.6, 'a', 'b', 30}\n"
          ]
        }
      ]
    },
    {
      "cell_type": "markdown",
      "source": [
        "## Join a Set and a Tuple"
      ],
      "metadata": {
        "id": "_1FNRX7NeXVA"
      }
    },
    {
      "cell_type": "code",
      "source": [
        "set1 = {\"a\", \"b\", \"c\"}\n",
        "tuple1 = (1, 2, 3)\n",
        "\n",
        "set2 = set1.union(tuple1)\n",
        "print(set2)"
      ],
      "metadata": {
        "colab": {
          "base_uri": "https://localhost:8080/"
        },
        "id": "OggHDwj5eYpe",
        "outputId": "64d0a87e-40c1-49f8-d9fc-894d612d7332"
      },
      "execution_count": null,
      "outputs": [
        {
          "output_type": "stream",
          "name": "stdout",
          "text": [
            "{1, 2, 3, 'c', 'a', 'b'}\n"
          ]
        }
      ]
    },
    {
      "cell_type": "markdown",
      "source": [
        "## Update"
      ],
      "metadata": {
        "id": "4SlTqfKmeepU"
      }
    },
    {
      "cell_type": "code",
      "source": [
        "set1 = {\"a\", \"b\" , \"c\"}\n",
        "set2 = {1, 2, 3}\n",
        "\n",
        "set1.update(set2)\n",
        "print(set1)"
      ],
      "metadata": {
        "colab": {
          "base_uri": "https://localhost:8080/"
        },
        "id": "N0B_h3FEef5Y",
        "outputId": "88732a2e-4a7b-4b74-9c19-5e34c98e452d"
      },
      "execution_count": null,
      "outputs": [
        {
          "output_type": "stream",
          "name": "stdout",
          "text": [
            "{1, 'a', 2, 3, 'b', 'c'}\n"
          ]
        }
      ]
    },
    {
      "cell_type": "markdown",
      "source": [
        "## Intersection"
      ],
      "metadata": {
        "id": "BasLlGV9eowK"
      }
    },
    {
      "cell_type": "code",
      "source": [
        "set1 = {\"a\", \"b\", \"c\",1}\n",
        "set2 = {\"d\", \"e\", \"a\",True}\n",
        "set3 = set1.intersection(set2)\n",
        "print(set3)"
      ],
      "metadata": {
        "colab": {
          "base_uri": "https://localhost:8080/"
        },
        "id": "YhkD7ZYeetNo",
        "outputId": "04116a7e-1eef-4340-c22f-898c3c5a82ca"
      },
      "execution_count": null,
      "outputs": [
        {
          "output_type": "stream",
          "name": "stdout",
          "text": [
            "{True, 'a'}\n"
          ]
        }
      ]
    },
    {
      "cell_type": "code",
      "source": [
        "set1 = {\"a\", \"b\", \"c\",1}\n",
        "set2 = {\"d\", \"e\", \"a\",True}\n",
        "set3 = set1 & set2\n",
        "print(set3)"
      ],
      "metadata": {
        "colab": {
          "base_uri": "https://localhost:8080/"
        },
        "id": "1d2hFLa7ezUp",
        "outputId": "1a208c87-e7e1-4d1d-d7b6-f987c756f0a3"
      },
      "execution_count": null,
      "outputs": [
        {
          "output_type": "stream",
          "name": "stdout",
          "text": [
            "{True, 'a'}\n"
          ]
        }
      ]
    },
    {
      "cell_type": "markdown",
      "source": [
        "## Intersection_update()"
      ],
      "metadata": {
        "id": "KNShCIspkK0a"
      }
    },
    {
      "cell_type": "code",
      "source": [
        "set1 = {\"a\", \"b\", \"c\",1}\n",
        "set2 = {\"d\", \"e\", \"a\",True}\n",
        "set1.intersection_update(set2)\n",
        "print(set1)"
      ],
      "metadata": {
        "colab": {
          "base_uri": "https://localhost:8080/"
        },
        "id": "z51-ztDJkFh4",
        "outputId": "8edecc10-10eb-4bda-b6db-2cc9eb44a45d"
      },
      "execution_count": null,
      "outputs": [
        {
          "output_type": "stream",
          "name": "stdout",
          "text": [
            "{True, 'a'}\n"
          ]
        }
      ]
    },
    {
      "cell_type": "markdown",
      "source": [
        "## Difference"
      ],
      "metadata": {
        "id": "-zQBFURlkYr6"
      }
    },
    {
      "cell_type": "code",
      "source": [
        "set1 = {\"a\", \"b\", \"c\",1}\n",
        "set2 = {\"d\", \"e\", \"a\",True}\n",
        "set3 = set1.difference(set2)\n",
        "print(set3)"
      ],
      "metadata": {
        "colab": {
          "base_uri": "https://localhost:8080/"
        },
        "id": "BQS5jCpzkZuL",
        "outputId": "99110d82-335d-46d7-99af-cee9df4dc263"
      },
      "execution_count": null,
      "outputs": [
        {
          "output_type": "stream",
          "name": "stdout",
          "text": [
            "{'c', 'b'}\n"
          ]
        }
      ]
    },
    {
      "cell_type": "code",
      "source": [
        "set1 = {\"a\", \"b\", \"c\",1}\n",
        "set2 = {\"d\", \"e\", \"a\",True}\n",
        "set3 = set1 - set2\n",
        "print(set3)"
      ],
      "metadata": {
        "colab": {
          "base_uri": "https://localhost:8080/"
        },
        "id": "azRTvKJRkt6d",
        "outputId": "93d6a41f-a65e-4f68-cecd-5948a075905d"
      },
      "execution_count": null,
      "outputs": [
        {
          "output_type": "stream",
          "name": "stdout",
          "text": [
            "{'c', 'b'}\n"
          ]
        }
      ]
    },
    {
      "cell_type": "markdown",
      "source": [
        "## Difference_update()"
      ],
      "metadata": {
        "id": "J3qNGS1Dk8tl"
      }
    },
    {
      "cell_type": "code",
      "source": [
        "set1 = {\"a\", \"b\", \"c\",1}\n",
        "set2 = {\"d\", \"e\", \"a\",True}\n",
        "set1.difference_update(set2)\n",
        "print(set1)"
      ],
      "metadata": {
        "colab": {
          "base_uri": "https://localhost:8080/"
        },
        "id": "9cT1p3wWk7cg",
        "outputId": "4ddec62f-e305-448a-e05d-2e7651157be2"
      },
      "execution_count": null,
      "outputs": [
        {
          "output_type": "stream",
          "name": "stdout",
          "text": [
            "{'b', 'c'}\n"
          ]
        }
      ]
    },
    {
      "cell_type": "markdown",
      "source": [
        "## Symmetric Differences"
      ],
      "metadata": {
        "id": "zgrKuDcWlO4I"
      }
    },
    {
      "cell_type": "code",
      "source": [
        "set1 = {\"a\", \"b\", \"c\",1}\n",
        "set2 = {\"d\", \"e\", \"a\",True}\n",
        "set3 = set1.symmetric_difference(set2)\n",
        "print(set3)"
      ],
      "metadata": {
        "colab": {
          "base_uri": "https://localhost:8080/"
        },
        "id": "KEJL7unwlQS9",
        "outputId": "6aa71c0d-23a6-4680-f946-cdb030748e0b"
      },
      "execution_count": null,
      "outputs": [
        {
          "output_type": "stream",
          "name": "stdout",
          "text": [
            "{'d', 'e', 'b', 'c'}\n"
          ]
        }
      ]
    },
    {
      "cell_type": "code",
      "source": [
        "set1 = {\"a\", \"b\", \"c\",1}\n",
        "set2 = {\"d\", \"e\", \"a\",True}\n",
        "set3 = set1 ^ set2\n",
        "print(set3)"
      ],
      "metadata": {
        "colab": {
          "base_uri": "https://localhost:8080/"
        },
        "id": "i4bRDAScldzB",
        "outputId": "372e4fd7-420a-4535-e4fa-f9ef80732602"
      },
      "execution_count": null,
      "outputs": [
        {
          "output_type": "stream",
          "name": "stdout",
          "text": [
            "{'d', 'e', 'b', 'c'}\n"
          ]
        }
      ]
    },
    {
      "cell_type": "markdown",
      "source": [
        "## Symmetric_difference_update()"
      ],
      "metadata": {
        "id": "sewTI8HHlmkR"
      }
    },
    {
      "cell_type": "code",
      "source": [
        "set1 = {\"a\", \"b\", \"c\",1}\n",
        "set2 = {\"d\", \"e\", \"a\",True}\n",
        "set1.symmetric_difference_update(set2)\n",
        "print(set1)"
      ],
      "metadata": {
        "colab": {
          "base_uri": "https://localhost:8080/"
        },
        "id": "frlOSMw5lyAi",
        "outputId": "cbef314e-45d7-48f7-b306-63a42c48b543"
      },
      "execution_count": null,
      "outputs": [
        {
          "output_type": "stream",
          "name": "stdout",
          "text": [
            "{'d', 'e', 'b', 'c'}\n"
          ]
        }
      ]
    },
    {
      "cell_type": "markdown",
      "source": [
        "## Copy()"
      ],
      "metadata": {
        "id": "Lk0qTv7rmYcC"
      }
    },
    {
      "cell_type": "code",
      "source": [
        "set1 = {\"a\", \"b\", \"c\",1}\n",
        "set2 = set1.copy()\n",
        "print(set2)"
      ],
      "metadata": {
        "colab": {
          "base_uri": "https://localhost:8080/"
        },
        "id": "Hdwt0_IQmcK_",
        "outputId": "af52ce30-b6a6-465b-daaa-79aec9738dab"
      },
      "execution_count": null,
      "outputs": [
        {
          "output_type": "stream",
          "name": "stdout",
          "text": [
            "{1, 'a', 'c', 'b'}\n"
          ]
        }
      ]
    },
    {
      "cell_type": "markdown",
      "source": [
        "## is_disjoint()"
      ],
      "metadata": {
        "id": "Lv62wacGmydo"
      }
    },
    {
      "cell_type": "code",
      "source": [
        "set1 = {\"a\", \"b\", \"c\",1}\n",
        "set2 = {\"d\", \"e\", \"f\",False}\n",
        "set3 = set1.isdisjoint(set2)\n",
        "print(set3)"
      ],
      "metadata": {
        "colab": {
          "base_uri": "https://localhost:8080/"
        },
        "id": "ww8k2nyhm3N9",
        "outputId": "8fd98ecc-fd90-4652-d06d-e8314c9a5867"
      },
      "execution_count": null,
      "outputs": [
        {
          "output_type": "stream",
          "name": "stdout",
          "text": [
            "True\n"
          ]
        }
      ]
    },
    {
      "cell_type": "code",
      "source": [
        "set1 = {\"a\", \"b\", \"c\",1}\n",
        "set2 = {\"d\", \"e\", \"f\",True}\n",
        "set3 = set1.isdisjoint(set2)\n",
        "print(set3)"
      ],
      "metadata": {
        "colab": {
          "base_uri": "https://localhost:8080/"
        },
        "id": "1bvL_1R8nohB",
        "outputId": "7356c490-6517-4f07-a1d9-76a6951d42e2"
      },
      "execution_count": null,
      "outputs": [
        {
          "output_type": "stream",
          "name": "stdout",
          "text": [
            "False\n"
          ]
        }
      ]
    },
    {
      "cell_type": "markdown",
      "source": [
        "## issubset()"
      ],
      "metadata": {
        "id": "zptSHChSoDMj"
      }
    },
    {
      "cell_type": "code",
      "source": [
        "set1 = {\"a\", \"b\", \"c\",1}\n",
        "set2 = {\"d\", \"e\", \"f\",True,\"b\",\"a\",\"c\"}\n",
        "set3 = set1.issubset(set2)\n",
        "print(set3)"
      ],
      "metadata": {
        "colab": {
          "base_uri": "https://localhost:8080/"
        },
        "id": "fP85sVPRoEYi",
        "outputId": "c22c6cbc-197d-48e4-a21d-1420ea42144d"
      },
      "execution_count": null,
      "outputs": [
        {
          "output_type": "stream",
          "name": "stdout",
          "text": [
            "True\n"
          ]
        }
      ]
    },
    {
      "cell_type": "code",
      "source": [
        "set1 = {\"a\", \"b\", \"c\",1}\n",
        "set2 = {\"d\", \"e\", \"f\",True,\"b\",\"a\",\"c\"}\n",
        "set3 = set1 <= set2\n",
        "print(set3)"
      ],
      "metadata": {
        "colab": {
          "base_uri": "https://localhost:8080/"
        },
        "id": "-QBXV7oIpknt",
        "outputId": "fd3cdf90-f6ee-4af3-b3cd-7965693f64a8"
      },
      "execution_count": null,
      "outputs": [
        {
          "output_type": "stream",
          "name": "stdout",
          "text": [
            "True\n"
          ]
        }
      ]
    },
    {
      "cell_type": "code",
      "source": [
        "set1 = {\"a\", \"b\", \"c\",1}\n",
        "set2 = {\"d\", \"e\", \"f\",True,\"b\",\"a\",\"c\"}\n",
        "set3 = set1 < set2\n",
        "print(set3)"
      ],
      "metadata": {
        "colab": {
          "base_uri": "https://localhost:8080/"
        },
        "id": "SdNUKmN1p4Sk",
        "outputId": "7a6c4ca2-2497-4347-c546-a18962a49d12"
      },
      "execution_count": null,
      "outputs": [
        {
          "output_type": "stream",
          "name": "stdout",
          "text": [
            "True\n"
          ]
        }
      ]
    },
    {
      "cell_type": "code",
      "source": [
        "set1 = {\"a\", \"b\", \"c\",1}\n",
        "set2 = {\"d\", \"e\", \"f\",True}\n",
        "set3 = set1.issubset(set2)\n",
        "print(set3)"
      ],
      "metadata": {
        "colab": {
          "base_uri": "https://localhost:8080/"
        },
        "id": "LKw4G28eoYjE",
        "outputId": "080b5755-7536-43b6-a05e-ca50908c20c4"
      },
      "execution_count": null,
      "outputs": [
        {
          "output_type": "stream",
          "name": "stdout",
          "text": [
            "False\n"
          ]
        }
      ]
    },
    {
      "cell_type": "code",
      "source": [
        "set1 = {\"a\", \"b\", \"c\",1}\n",
        "set2 = {\"d\", \"e\", \"f\",True}\n",
        "set3 = set1 <= set2\n",
        "print(set3)"
      ],
      "metadata": {
        "colab": {
          "base_uri": "https://localhost:8080/"
        },
        "id": "QZq6_QpIpveS",
        "outputId": "0de660c4-3a0f-41d3-f707-f821253c88f4"
      },
      "execution_count": null,
      "outputs": [
        {
          "output_type": "stream",
          "name": "stdout",
          "text": [
            "False\n"
          ]
        }
      ]
    },
    {
      "cell_type": "code",
      "source": [
        "set1 = {\"a\", \"b\", \"c\",1}\n",
        "set2 = {\"d\", \"e\", \"f\",True}\n",
        "set3 = set1 < set2\n",
        "print(set3)"
      ],
      "metadata": {
        "colab": {
          "base_uri": "https://localhost:8080/"
        },
        "id": "tnTMRAR2qEcH",
        "outputId": "b41abff0-633d-402d-ec50-9a4f05d62f5f"
      },
      "execution_count": null,
      "outputs": [
        {
          "output_type": "stream",
          "name": "stdout",
          "text": [
            "False\n"
          ]
        }
      ]
    },
    {
      "cell_type": "markdown",
      "source": [
        "## issuperset()"
      ],
      "metadata": {
        "id": "2svtDbfPo0KT"
      }
    },
    {
      "cell_type": "code",
      "source": [
        "set1 = {\"d\", \"e\", \"f\",True,\"b\",\"a\",\"c\"}\n",
        "set2 = {\"a\", \"b\", \"c\",1}\n",
        "set3 = set1.issuperset(set2)\n",
        "print(set3)"
      ],
      "metadata": {
        "colab": {
          "base_uri": "https://localhost:8080/"
        },
        "id": "M45AHGfBo11_",
        "outputId": "1b87b4ec-7fac-41e3-8164-50e3fa1b379c"
      },
      "execution_count": null,
      "outputs": [
        {
          "output_type": "stream",
          "name": "stdout",
          "text": [
            "True\n"
          ]
        }
      ]
    },
    {
      "cell_type": "code",
      "source": [
        "set1 = {\"d\", \"e\", \"f\",True,\"b\",\"a\",\"c\"}\n",
        "set2 = {\"a\", \"b\", \"c\",1}\n",
        "set3 = set1 >= set2\n",
        "print(set3)"
      ],
      "metadata": {
        "colab": {
          "base_uri": "https://localhost:8080/"
        },
        "id": "NMZZR4arqRAK",
        "outputId": "aa38927d-94e8-450a-b1bd-ec69803b8c2f"
      },
      "execution_count": null,
      "outputs": [
        {
          "output_type": "stream",
          "name": "stdout",
          "text": [
            "True\n"
          ]
        }
      ]
    },
    {
      "cell_type": "code",
      "source": [
        "set1 = {\"d\", \"e\", \"f\",True,\"b\",\"a\",\"c\"}\n",
        "set2 = {\"a\", \"b\", \"c\",1}\n",
        "set3 = set1 > set2\n",
        "print(set3)"
      ],
      "metadata": {
        "colab": {
          "base_uri": "https://localhost:8080/"
        },
        "id": "sDYKe4FZqXCZ",
        "outputId": "cd2e9ca9-8921-41cf-f10e-a12665ebc22b"
      },
      "execution_count": null,
      "outputs": [
        {
          "output_type": "stream",
          "name": "stdout",
          "text": [
            "True\n"
          ]
        }
      ]
    },
    {
      "cell_type": "code",
      "source": [
        "set1 = {\"d\", \"e\", \"f\",True,False}\n",
        "set2 = {\"a\", \"b\", \"c\",1}\n",
        "set3 = set1.issuperset(set2)\n",
        "print(set3)"
      ],
      "metadata": {
        "colab": {
          "base_uri": "https://localhost:8080/"
        },
        "id": "-CxQC7uLpKKo",
        "outputId": "d59416fa-774d-4591-cddc-697d28dcb483"
      },
      "execution_count": null,
      "outputs": [
        {
          "output_type": "stream",
          "name": "stdout",
          "text": [
            "False\n"
          ]
        }
      ]
    },
    {
      "cell_type": "code",
      "source": [
        "set1 = {\"d\", \"e\", \"f\",True,False}\n",
        "set2 = {\"a\", \"b\", \"c\",1}\n",
        "set3 = set1 >= set2\n",
        "print(set3)"
      ],
      "metadata": {
        "colab": {
          "base_uri": "https://localhost:8080/"
        },
        "id": "rLUeUWIhqbij",
        "outputId": "dd8f1e4f-ac9b-46f5-8bf6-7daa64c5f9a6"
      },
      "execution_count": null,
      "outputs": [
        {
          "output_type": "stream",
          "name": "stdout",
          "text": [
            "False\n"
          ]
        }
      ]
    },
    {
      "cell_type": "code",
      "source": [
        "set1 = {\"d\", \"e\", \"f\",True,False}\n",
        "set2 = {\"a\", \"b\", \"c\",1}\n",
        "set3 = set1 > set2\n",
        "print(set3)"
      ],
      "metadata": {
        "colab": {
          "base_uri": "https://localhost:8080/"
        },
        "id": "MQYx_jd6qlsA",
        "outputId": "175c5aef-98a3-47fc-9188-094913cda249"
      },
      "execution_count": null,
      "outputs": [
        {
          "output_type": "stream",
          "name": "stdout",
          "text": [
            "False\n"
          ]
        }
      ]
    }
  ]
}