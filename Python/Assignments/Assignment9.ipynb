{
  "nbformat": 4,
  "nbformat_minor": 0,
  "metadata": {
    "colab": {
      "provenance": [],
      "mount_file_id": "1g74Mt6rzrh0xtrCt5G4zmsjp2Fl4yOCV",
      "authorship_tag": "ABX9TyN0aRZrrdoWptda0poo3nMb"
    },
    "kernelspec": {
      "name": "python3",
      "display_name": "Python 3"
    },
    "language_info": {
      "name": "python"
    }
  },
  "cells": [
    {
      "cell_type": "markdown",
      "source": [
        "# **Assignment-9**"
      ],
      "metadata": {
        "id": "yLq1cjSG6sLQ"
      }
    },
    {
      "cell_type": "markdown",
      "source": [
        "Priyanka wants to read a text file using python and she wants to print the content of that file in the terminal. But she is unable to specify the file name correctly. To help Priyanka write a program in python and show how to read the content of the text file and print it on the screen using python. ● Name of the text file: aboutPython.txt ● Content: ● Python is an interpreted, object-oriented, high-level programming language with dynamic semantics. It's high-level built in data structures, combined with dynamic typing and dynamic binding, make it very attractive for Rapid Application Development, as well as for use as a scripting or glue language to connect existing components together. Python's simple, easy to learn syntax emphasizes readability and therefore reduces the cost of program maintenance. Python supports modules and packages, which encourages program modularity and code reuse. The Python interpreter and the extensive standard library are available in source or binary form without charge for all major platforms, and can be freely distributed. ● . ● Hint: ● Create a text file aboutPython.txt ● Copy the given content in that file ● Using python read the content of the file. ● Use the concept of file handling."
      ],
      "metadata": {
        "id": "JYa1wss0j1j4"
      }
    },
    {
      "cell_type": "code",
      "execution_count": null,
      "metadata": {
        "colab": {
          "base_uri": "https://localhost:8080/"
        },
        "id": "48UFL19tj0PW",
        "outputId": "5255e3b8-ed3c-40dc-8a21-60dc102a03c2"
      },
      "outputs": [
        {
          "output_type": "stream",
          "name": "stdout",
          "text": [
            " Python is an interpreted, object-oriented, high-level programming language with dynamic semantics. It's high-level built in data structures, combined with dynamic typing and dynamic binding, make it very attractive for Rapid Application Development, as well as for use as a scripting or glue language to connect existing components together. Python's simple, easy to learn syntax emphasizes readability and therefore reduces the cost of program maintenance. Python supports modules and packages, which encourages program modularity and code reuse. The Python interpreter and the extensive standard library are available in source or binary form without charge for all major platforms, and can be freely distributed.\n"
          ]
        }
      ],
      "source": [
        "f = open(\"/content/drive/MyDrive/Scifor Technologies/aboutPython.txt\",\"r\")\n",
        "print(f.read())\n",
        "f.close()"
      ]
    },
    {
      "cell_type": "markdown",
      "source": [
        "Himanshi has a text file and she wants to check whether that file contains any numerical value. So to help Himanshi write a python program that can check whether the text file includes any numerical value or not. As text files contain so many lines, so print the line number that has numerical values\n"
      ],
      "metadata": {
        "id": "4Bfx9GbWmOoM"
      }
    },
    {
      "cell_type": "code",
      "source": [
        "f = open(\"/content/drive/MyDrive/Scifor Technologies/numerical.txt\",\"r\")\n",
        "ln = 0 # ln = line number\n",
        "for i in f: # i = line, f = file\n",
        "  ln += 1\n",
        "  for char in i:\n",
        "    if char.isdigit():\n",
        "      print(\"Line Number {} has numerical value\".format(ln))\n",
        "      break\n",
        "f.close()"
      ],
      "metadata": {
        "colab": {
          "base_uri": "https://localhost:8080/"
        },
        "id": "rny3IhkYmPvS",
        "outputId": "05a03446-203e-4108-cefd-4162daa13e2d"
      },
      "execution_count": null,
      "outputs": [
        {
          "output_type": "stream",
          "name": "stdout",
          "text": [
            "Line Number 1 has numerical value\n",
            "Line Number 3 has numerical value\n",
            "Line Number 4 has numerical value\n",
            "Line Number 6 has numerical value\n",
            "Line Number 8 has numerical value\n",
            "Line Number 10 has numerical value\n"
          ]
        }
      ]
    },
    {
      "cell_type": "markdown",
      "source": [
        "Shubham had created a BMI calculator to check his health condition daily. But he is not able to record the values. He wants to see how his BMI is changing. So he decided to connect his BMI program with a text file using the concept of file handling. Now, when he uses his BMI program, his height, weight, BMI, and date get added to a text file \"bmi.txt\". Create a program that can do the same thing for you."
      ],
      "metadata": {
        "id": "ynSqJfqFrKN9"
      }
    },
    {
      "cell_type": "code",
      "source": [
        "import datetime\n",
        "\n",
        "def bmi_Cal(height,weight):\n",
        "  height = height/100\n",
        "  bmi = weight/(height ** 2)\n",
        "  return bmi\n",
        "\n",
        "def bmi_Rec(height,weight):\n",
        "  bmi = bmi_Cal(height,weight)\n",
        "  d = datetime.date.today()\n",
        "  f = open(\"/content/drive/MyDrive/Scifor Technologies/bmi.txt\",\"a\")\n",
        "  f.write(\"Date: {}\".format(d))\n",
        "  f.write(\"Height: {}\".format(height))\n",
        "  f.write(\"Weight: {}\".format(weight))\n",
        "  f.write(\"BMI: {}\".format(round(bmi,2)))\n",
        "  f.write(\"\\n\")\n",
        "  f.close()\n",
        "\n",
        "height = float(input(\"Enter the Height in centimeter:\"))\n",
        "weight = float(input(\"Enter the Weight in Kilograms:\"))\n",
        "bmi_Rec(height,weight)\n",
        "print(\"BMI Recorded Successfully\")"
      ],
      "metadata": {
        "colab": {
          "base_uri": "https://localhost:8080/"
        },
        "id": "KBbnk9PRrMiE",
        "outputId": "33f18851-cb3a-4da3-b91d-6791e064013e"
      },
      "execution_count": null,
      "outputs": [
        {
          "output_type": "stream",
          "name": "stdout",
          "text": [
            "Enter the Height in centimeter:175\n",
            "Enter the Weight in Kilograms:95\n",
            "BMI Recorded Successfully\n"
          ]
        }
      ]
    },
    {
      "cell_type": "markdown",
      "source": [
        "Arvind has a huge text file and he wants to put a serial number at the beginning of each line. Doing this task manually can take a lot of time. He is not aware of python file handling. Write a python program that can put a serial number in front of each line in any specified text file."
      ],
      "metadata": {
        "id": "pQLXMU8v67Kc"
      }
    },
    {
      "cell_type": "code",
      "source": [
        "def serial_num(inputf):\n",
        "  f = open(inputf,\"r\")\n",
        "  lines = f.readlines()\n",
        "  f.close()\n",
        "\n",
        "  num_lines = []\n",
        "  ln = 1\n",
        "  print(\"Serial Number Added Successfully\")\n",
        "  for i in lines:\n",
        "    numb_ln = \"{}.{}\".format(ln,i)\n",
        "    num_lines.append(numb_ln)\n",
        "    print(numb_ln)\n",
        "    ln += 1\n",
        "\n",
        "x = \"/content/drive/MyDrive/Scifor Technologies/input_file.txt\"\n",
        "serial_num(x)"
      ],
      "metadata": {
        "id": "lxYmVhrL69Oc",
        "colab": {
          "base_uri": "https://localhost:8080/"
        },
        "outputId": "0b977b97-368f-4832-c5b6-4746564de2fc"
      },
      "execution_count": null,
      "outputs": [
        {
          "output_type": "stream",
          "name": "stdout",
          "text": [
            "Serial Number Added Successfully\n",
            "1.adasdsa\n",
            "\n",
            "2.fasfdas\n",
            "\n",
            "3.fasfasf\n",
            "\n",
            "4.fgaasfasfa\n",
            "\n",
            "5.gsdgsdgsd\n",
            "\n",
            "6.gdsgsfasfda\n",
            "\n",
            "7.hfdhdfgsd\n",
            "\n",
            "8.asfsafsa\n"
          ]
        }
      ]
    },
    {
      "cell_type": "markdown",
      "source": [
        "Arunima created a text file on programming where she wrote the word language incorrectly many times. Now she wants to replace the incorrect word with the correct word. Doing it manually can take a lot of time plus she can miss out few words at the end. To help Arunima to replace the words write a python program. Use the concept of file handling and make changes in the text file."
      ],
      "metadata": {
        "id": "sr88tujA8KHy"
      }
    },
    {
      "cell_type": "code",
      "source": [
        "def replace_wrd(input_file,inc_wrd,crt_wrd):\n",
        "  print(\"Original Text:\")\n",
        "  f = open(input_file,\"r\")\n",
        "  content = f.read()\n",
        "  print(content)\n",
        "  f.close()\n",
        "\n",
        "  mod_content = content.replace(inc_wrd,crt_wrd)\n",
        "\n",
        "  f = open(input_file,\"w\")\n",
        "  f.write(mod_content)\n",
        "  f.close()\n",
        "  print(\"Replaced Text:\")\n",
        "  f_out = open(input_file,\"r\")\n",
        "  content = f_out.read()\n",
        "  print(content)\n",
        "\n",
        "filex = \"/content/drive/MyDrive/Scifor Technologies/program.txt\"\n",
        "inc_wrdx = input(\"Enter the word to be Replaced:\")\n",
        "crt_wrdx = input(\"Enter the Correct word:\")\n",
        "replace_wrd(filex,inc_wrdx,crt_wrdx)"
      ],
      "metadata": {
        "id": "qod0kS528Mg6",
        "colab": {
          "base_uri": "https://localhost:8080/"
        },
        "outputId": "5cd42021-524d-461d-c1a3-f9f486a85e3d"
      },
      "execution_count": null,
      "outputs": [
        {
          "output_type": "stream",
          "name": "stdout",
          "text": [
            "Enter the word to be Replaced:Dhoni\n",
            "Enter the Correct word:Mahendra Singh Dhoni\n",
            "Original Text:\n",
            "Dhoni born 7 July 1981 is an Indian professional cricketer. He is a right handed batter and a wicket-keeper. Widely regarded as one of the most prolific wicket-keeper-batsmen and captains, he represented the Indian cricket team and was the captain of the side in limited-overs formats from 2007 to 2017 and in test cricket from 2008 to 2014. Dhoni has captained the most international matches and is the most successful Indian captain. He has led India to victory in the 2011 Cricket World Cup, the 2007 ICC World Twenty20 and the 2013 ICC Champions Trophy, the only captain to win three different limited overs tournaments. He also led the teams that won the Asia Cup in 2010, 2016 and was a member of the title winning squad in 2018.\n",
            "Replaced Text:\n",
            "Mahendra Singh Dhoni born 7 July 1981 is an Indian professional cricketer. He is a right handed batter and a wicket-keeper. Widely regarded as one of the most prolific wicket-keeper-batsmen and captains, he represented the Indian cricket team and was the captain of the side in limited-overs formats from 2007 to 2017 and in test cricket from 2008 to 2014. Mahendra Singh Dhoni has captained the most international matches and is the most successful Indian captain. He has led India to victory in the 2011 Cricket World Cup, the 2007 ICC World Twenty20 and the 2013 ICC Champions Trophy, the only captain to win three different limited overs tournaments. He also led the teams that won the Asia Cup in 2010, 2016 and was a member of the title winning squad in 2018.\n"
          ]
        }
      ]
    },
    {
      "cell_type": "markdown",
      "source": [
        "Ayman wants to modify one of his text files. In his text file, he wants to start a new line whenever he encounters a number followed by a period(.). So he decides to do the same with the help of the python program. Write a program for Ayman."
      ],
      "metadata": {
        "id": "tBil0dgSETye"
      }
    },
    {
      "cell_type": "code",
      "source": [
        "def mod_content(input_file,output_file):\n",
        "  f = open(input_file,\"r\")\n",
        "  f_out = open(output_file,\"w\")\n",
        "  for i in f:\n",
        "    modified_con = \"\"\n",
        "    for j in i:\n",
        "      if j.isdigit() or j == \".\":\n",
        "        modified_con += j + ('\\n' if j == '.' else '')\n",
        "      else:\n",
        "        modified_con += j\n",
        "    f_out.write(modified_con)\n",
        "  print(\"New Lines Added Succesfully\")\n",
        "  print(modified_con)\n",
        "input_file = \"/content/drive/MyDrive/Scifor Technologies/modify_in.txt\"\n",
        "output_file = \"/content/drive/MyDrive/Scifor Technologies/modify_out.txt\"\n",
        "mod_content(input_file,output_file)"
      ],
      "metadata": {
        "colab": {
          "base_uri": "https://localhost:8080/"
        },
        "id": "Zt8x81wJEVCP",
        "outputId": "8604654c-2953-4d02-8b47-2eea41a85c8e"
      },
      "execution_count": null,
      "outputs": [
        {
          "output_type": "stream",
          "name": "stdout",
          "text": [
            "New Lines Added Succesfully\n",
            "asdasghdjhj1.\n",
            "fsafggyfgyf3.\n",
            "ghsdjhds5.\n",
            "fdsfbhjfbh5.\n",
            "dsfv6bdsfnb6.\n",
            "fgsdgfsh4jjhhds3.\n",
            "\n"
          ]
        }
      ]
    },
    {
      "cell_type": "markdown",
      "source": [
        "Nidhi has a bad habit of repeating the same word while typing. She wants a program that can remove duplicate phrases from paragraphs written by her. To help Nidhi write a python program that can connect with a text file and remove repeating words."
      ],
      "metadata": {
        "id": "xMKae5lKW8PD"
      }
    },
    {
      "cell_type": "code",
      "source": [
        "f = open(\"/content/drive/MyDrive/Scifor Technologies/duplicate.txt\",\"r\")\n",
        "og_data = f.read()\n",
        "print(\"Original Data \\n\",og_data)\n",
        "s = og_data.split()\n",
        "p = []\n",
        "for i in s:\n",
        "  if i in p:\n",
        "    pass\n",
        "  else:\n",
        "    p.append(i)\n",
        "f.close()\n",
        "print(\"Removed Duplicates\")\n",
        "for j in p:\n",
        "  print(j,end=\" \")"
      ],
      "metadata": {
        "colab": {
          "base_uri": "https://localhost:8080/"
        },
        "id": "zeyS4LH38pBc",
        "outputId": "0ee58861-e8fe-4158-b246-19b6235ad70a"
      },
      "execution_count": null,
      "outputs": [
        {
          "output_type": "stream",
          "name": "stdout",
          "text": [
            "Original Data \n",
            " Mahendra Singh Dhoni born 7 July 1981 is an Indian Indian professional cricketer.\n",
            "He a right right handed batter and wicket-keeper.Widely regarded regarded regarded as one of the most prolific wicket-keeper-batsmen captains, he represented represented cricket team was captain side in limited-overs formats from 2007 to 2017 test 2008 2014.\n",
            "Dhoni has captained international matches successful captain captain . He led India victory 2011 Cricket World Cup, ICC Twenty20 2013 Champions Trophy, only win three different limited overs tournaments.\n",
            "He also teams that won Asia Cup 2010, 2016 member title title winning squad 2018.\n",
            "Removed Duplicates\n",
            "Mahendra Singh Dhoni born 7 July 1981 is an Indian professional cricketer. He a right handed batter and wicket-keeper.Widely regarded as one of the most prolific wicket-keeper-batsmen captains, he represented cricket team was captain side in limited-overs formats from 2007 to 2017 test 2008 2014. has captained international matches successful . led India victory 2011 Cricket World Cup, ICC Twenty20 2013 Champions Trophy, only win three different limited overs tournaments. also teams that won Asia Cup 2010, 2016 member title winning squad 2018. "
          ]
        }
      ]
    }
  ]
}