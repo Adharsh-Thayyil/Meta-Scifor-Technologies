{
  "nbformat": 4,
  "nbformat_minor": 0,
  "metadata": {
    "colab": {
      "provenance": [],
      "authorship_tag": "ABX9TyMo8fLkmrKtCV2QW//pS6vb"
    },
    "kernelspec": {
      "name": "python3",
      "display_name": "Python 3"
    },
    "language_info": {
      "name": "python"
    }
  },
  "cells": [
    {
      "cell_type": "markdown",
      "source": [
        "# **Assignment-5**\n"
      ],
      "metadata": {
        "id": "Xey3eZP9EWSN"
      }
    },
    {
      "cell_type": "markdown",
      "source": [
        "A Candy Vending Machine is topped up and is supposed to deliver the number of candies entered by the user but before delivering the candies the vending machine is supposed to ask the user to enter the amount for the candies where each candy is worth 1 dollar. So write a python program that can be loaded into the vending machine so that the vending machine can act accordingly.\n",
        "HINT:\n",
        "* create a variable named total_candies_to_load and take the input from the user on how many candies to be loaded on to the vending machine\n",
        "\n",
        "* print the vending machine title as \"🍬🍬Candy Vending Machine🍬🍬\" and print total number of candies loaded into the vending machine along with it.\n",
        "\n",
        "*  create a variable named numberOfCandiesUserWants to store the number of candies required by the user\n",
        "\n",
        "* accept the number of candies the customer wants as an input into the variable numberOfCandiesUserWants that we created in the previous step and if the number of candies required by the customer is less than zero or greater than total number of candies in the machine, print “You have entered number of candies which is either zero or less than zero and is not possible to disperse please try again or visit once again Thanks for shopping with us!!! we will be happy to serve you once again”\n",
        "\n",
        "\n",
        "* Using the concept of nested loops, print the amount the customer has to pay given cost of 1 candy = 1$.\n",
        "\n",
        "\n",
        "\n",
        "* Confirm the money paid by the customer as input to UserMoney variable.\n",
        "\n",
        "\n",
        "* If the UserMoney is equal to cost of candies, print delivering as many times as the number of candies ordered by the customer otherwise print “Enter wrong amount. Try again !”  \n",
        "\n",
        "* print the number of candies left in the vending machine and a thank you message."
      ],
      "metadata": {
        "id": "oDHSfOSBiCze"
      }
    },
    {
      "cell_type": "code",
      "execution_count": null,
      "metadata": {
        "colab": {
          "base_uri": "https://localhost:8080/"
        },
        "id": "zfKyiAoJhv2z",
        "outputId": "cb257823-beb7-496b-a901-7ece44eb0ce5"
      },
      "outputs": [
        {
          "output_type": "stream",
          "name": "stdout",
          "text": [
            "Enter the number of candies to be load:500\n",
            "🍬🍬Candy Vending Machine🍬🍬 500\n",
            "Enter the number of candies user wants:200\n",
            "Total cost of candies: $200\n",
            "Please Enter the amount you are paying: $200\n",
            "Delivering 200 the number of candies ordered by the customer\n",
            "Number of candies left in the vending machine 300. ThankYou!!\n"
          ]
        }
      ],
      "source": [
        "total_candies_to_load = int(input(\"Enter the number of candies to be load:\"))\n",
        "print(\"🍬🍬Candy Vending Machine🍬🍬\",total_candies_to_load)\n",
        "number_Of_candies_user_wants = int(input(\"Enter the number of candies user wants:\"))\n",
        "if number_Of_candies_user_wants <= 0 or number_Of_candies_user_wants > total_candies_to_load:\n",
        "  print(\"You have entered number of candies which is either zero or less than zero and is not possible to disperse please try again or visit once again. Thanks for shopping with us!!! We will be happy to serve you once again.\")\n",
        "else:\n",
        "  cost_of_candies = number_Of_candies_user_wants\n",
        "  print(\"Total cost of candies: ${}\".format(cost_of_candies))\n",
        "  UserMoney = int(input(\"Please Enter the amount you are paying: $\"))\n",
        "  if UserMoney == cost_of_candies:\n",
        "    print(\"Delivering {} the number of candies ordered by the customer\".format(number_Of_candies_user_wants))\n",
        "    total_candies_to_load -= number_Of_candies_user_wants\n",
        "    print(\"Number of candies left in the vending machine {}. ThankYou!!\".format(total_candies_to_load))\n",
        "  else:\n",
        "    print(\"Entered wrong amount. Try again !\")\n",
        "    print(\"Number of candies left in the vending machine {}. ThankYou!!\".format(total_candies_to_load))"
      ]
    },
    {
      "cell_type": "markdown",
      "source": [
        "Mathew, a 13 year old kid, is good at math but whenever it comes to the even and odd numbers he always faces difficulty to find the even or odd number greater than 10. So write a python program to help Mathew to print odd and even numbers in a certain range using a for loop."
      ],
      "metadata": {
        "id": "6b7KCPejxKxH"
      }
    },
    {
      "cell_type": "code",
      "source": [
        "min_range = int(input(\"Enter the First number:\"))\n",
        "max_range = int(input(\"Enter the Second number:\"))\n",
        "print(\"Even Numbers between {} and {}\".format(min_range,max_range))\n",
        "for i in range(min_range,max_range+1):\n",
        "  if i%2 == 0:\n",
        "    print(i)\n",
        "print(\"Odd Numbers between {} and {}\".format(min_range,max_range))\n",
        "for i in range(min_range,max_range+1):\n",
        "  if i%2 != 0:\n",
        "    print(i)"
      ],
      "metadata": {
        "colab": {
          "base_uri": "https://localhost:8080/"
        },
        "id": "BVPoEbc7xbIL",
        "outputId": "d397d87e-a157-476f-c25f-fe4bbeba7bb8"
      },
      "execution_count": null,
      "outputs": [
        {
          "output_type": "stream",
          "name": "stdout",
          "text": [
            "Enter the First number:10\n",
            "Enter the Second number:20\n",
            "Even Numbers between 10 and 20\n",
            "10\n",
            "12\n",
            "14\n",
            "16\n",
            "18\n",
            "20\n",
            "Odd Numbers between 10 and 20\n",
            "11\n",
            "13\n",
            "15\n",
            "17\n",
            "19\n"
          ]
        }
      ]
    },
    {
      "cell_type": "markdown",
      "source": [
        "Create a program to the find total number of upper letters,lower letters,digits and the symbols using if elif else, for loop and string operations\n"
      ],
      "metadata": {
        "id": "zHyR4vtI0vBX"
      }
    },
    {
      "cell_type": "code",
      "source": [
        "str1 = input(\"Enter the string:\")\n",
        "ucount = 0\n",
        "lcount = 0\n",
        "dcount = 0\n",
        "scount = 0\n",
        "for i in str1:\n",
        "  if i.isupper():\n",
        "    ucount += 1\n",
        "  elif i.islower():\n",
        "    lcount += 1\n",
        "  elif i.isdigit():\n",
        "    dcount += 1\n",
        "  else:\n",
        "    scount += 1\n",
        "print(\"Number of Uppercase Letters: {}\\nNumber of Lowercase Letters: {}\\nNumber of Digits: {}\\nNumber of Symbols: {}\".format(ucount,lcount,dcount,scount))\n",
        "\n"
      ],
      "metadata": {
        "colab": {
          "base_uri": "https://localhost:8080/"
        },
        "id": "JNaUDQId07oa",
        "outputId": "cbe7f935-4303-4d81-c9fe-58ee6c2630e7"
      },
      "execution_count": null,
      "outputs": [
        {
          "output_type": "stream",
          "name": "stdout",
          "text": [
            "Enter the string:qwertyQWERTY12345!@#$%\n",
            "Number of Uppercase Letters: 6\n",
            "Number of Lowercase Letters: 6\n",
            "Number of Digits: 5\n",
            "Number of Symbols: 5\n"
          ]
        }
      ]
    },
    {
      "cell_type": "markdown",
      "source": [
        "Mrs. Olivia, a entrepreneur, is running a mini business and wanted to create a very simple form which takes only the user's name and the user's password so that all her customers can have access to her business dashboard. Mrs. Olivia wants her customers to just enter the password with only alphabets and no numbers allowed for some reason.Mrs. Olivia just knows how to create a form but she doesn't know how to give the validation. So to help Mrs. Olivia, write a python program to validate Mrs.Olivia's form where password should only consist of alphabets. Hint:Use isalpha() function."
      ],
      "metadata": {
        "id": "8WSTo18D64-v"
      }
    },
    {
      "cell_type": "code",
      "source": [
        "usr_name = input(\"Enter the Username:\")\n",
        "pswd = input(\"Enter the Password:\")\n",
        "if pswd.isalpha():\n",
        "  print(\"User Entered a Valid Password\")\n",
        "else:\n",
        "  print(\"Invalid Password.Please Enter a Password Only With Alphabets\")"
      ],
      "metadata": {
        "colab": {
          "base_uri": "https://localhost:8080/"
        },
        "id": "iiW2Bpcd66W3",
        "outputId": "226f0926-e2a8-4a8b-ebff-95226fa4855e"
      },
      "execution_count": null,
      "outputs": [
        {
          "output_type": "stream",
          "name": "stdout",
          "text": [
            "Enter the Username:Adharsh\n",
            "Enter the Password:Hsrahda\n",
            "User Entered a Valid Password\n"
          ]
        }
      ]
    },
    {
      "cell_type": "markdown",
      "source": [
        "Christiana is a kid who is born on leap year, but she doesn't know which year would be a leap year for her so that she can celebrate her birthday hence write a python program to help Chirstiana in finding out if the given year is a leap year or not\n"
      ],
      "metadata": {
        "id": "8RssAHwV9d4G"
      }
    },
    {
      "cell_type": "code",
      "source": [
        "start_yr = int(input(\"Enter the Starting Year:\"))\n",
        "end_yr = int(input(\"Enter the Ending Year:\"))\n",
        "for year in range(start_yr,end_yr):\n",
        "  if (year % 4 == 0 and year % 100 != 0) or (year % 400 == 0):\n",
        "    print(\"{} is Leap Year\".format(year))\n",
        "  else:\n",
        "    print(\"{} is not a Leap Year\".format(year))"
      ],
      "metadata": {
        "colab": {
          "base_uri": "https://localhost:8080/"
        },
        "id": "QPn9XOfa9i86",
        "outputId": "7be487b5-b104-4e54-c7fe-3752d63af4a0"
      },
      "execution_count": null,
      "outputs": [
        {
          "output_type": "stream",
          "name": "stdout",
          "text": [
            "Enter the Starting Year:2000\n",
            "Enter the Ending Year:2011\n",
            "2000 is Leap Year\n",
            "2001 is not a Leap Year\n",
            "2002 is not a Leap Year\n",
            "2003 is not a Leap Year\n",
            "2004 is Leap Year\n",
            "2005 is not a Leap Year\n",
            "2006 is not a Leap Year\n",
            "2007 is not a Leap Year\n",
            "2008 is Leap Year\n",
            "2009 is not a Leap Year\n",
            "2010 is not a Leap Year\n"
          ]
        }
      ]
    },
    {
      "cell_type": "markdown",
      "source": [
        "In a classroom, there are desks arranged in a row and column fashion. The math teacher, Mr. James, asked one of the kid whose name was Robert to count the total number of desks present in the class. Robert was just wondering if there is software that could take the number of rows and number of columns and show how many desks there are that would make his job easier. So write a python program to help Robert to count the number of desks present in the class"
      ],
      "metadata": {
        "id": "S1dmE-S6APsR"
      }
    },
    {
      "cell_type": "code",
      "source": [
        "row = int(input(\"Enter the Number of Rows:\"))\n",
        "col = int(input(\"Enter the Number of Columns:\"))\n",
        "count = 0\n",
        "for i in range(row):\n",
        "  for j in range(col):\n",
        "    count += 1\n",
        "print(\"Total No. of desks in classroom: \",count)"
      ],
      "metadata": {
        "colab": {
          "base_uri": "https://localhost:8080/"
        },
        "id": "h3AT-ABPA0Tc",
        "outputId": "b0cbeb3a-9122-4bdb-bb16-2a6fd12f7a55"
      },
      "execution_count": null,
      "outputs": [
        {
          "output_type": "stream",
          "name": "stdout",
          "text": [
            "Enter the Number of Rows:5\n",
            "Enter the Number of Columns:4\n",
            "Total No. of desks in classroom:  20\n"
          ]
        }
      ]
    },
    {
      "cell_type": "markdown",
      "source": [
        "Mr James, A businessman in canada was throwing a small party in a banquet hall and wanted to track the number of people attended the party so he kept a people tracker device in the entrance where every person enters is supposed to enter his or her authorization code to enter the hall, certain codes were assigned they are as follows :\n",
        "If Banquet Hall Team Members like Manager, waiter, and Mr. James himself then their authorization code will be : 0\n",
        "If Guests Their Authorization Code Will be : 1\n",
        "If the Authorization Code Entered is 1 then increment the number_of_guests Variable by 1, Wish the Guest like\n",
        "\"Door Opened\"\n",
        "\"Welcome to the Party, We Hope you have fun.\"\n",
        "else If the Authorization Code Entered is 0 then print as follows\n",
        "\"Access Granted\"\n",
        "\"Door Opened\"\n",
        "else tell the person that his entered number is invalid\n"
      ],
      "metadata": {
        "id": "I52g3C74EK3k"
      }
    },
    {
      "cell_type": "code",
      "source": [
        "number_of_guests = 0\n",
        "total_people = int(input(\"Enter the total number of people entering the party:\"))\n",
        "for i in range(total_people):\n",
        "  auth_code = int(input(\"Enter the Authorization code:\"))\n",
        "  if auth_code == 1:\n",
        "    number_of_guests += 1\n",
        "    print(\"Door Opened\\nWelcome to the Party, We Hope you have fun.\")\n",
        "  elif auth_code == 0:\n",
        "    print(\"Access Granted\\nDoor Opened\")\n",
        "  else:\n",
        "    print(\"Invalid authorization code\")\n",
        "print(\"Total number of guests attended the party: {}\".format(number_of_guests))\n"
      ],
      "metadata": {
        "colab": {
          "base_uri": "https://localhost:8080/"
        },
        "id": "8eWVeeYoGAw0",
        "outputId": "2883cac9-06e3-4d9b-ff02-5925af246378"
      },
      "execution_count": null,
      "outputs": [
        {
          "output_type": "stream",
          "name": "stdout",
          "text": [
            "Enter the total number of people entering the party:6\n",
            "Enter the Authorization code:0\n",
            "Access Granted\n",
            "Door Opened\n",
            "Enter the Authorization code:1\n",
            "Door Opened\n",
            "Welcome to the Party, We Hope you have fun.\n",
            "Enter the Authorization code:1\n",
            "Door Opened\n",
            "Welcome to the Party, We Hope you have fun.\n",
            "Enter the Authorization code:1\n",
            "Door Opened\n",
            "Welcome to the Party, We Hope you have fun.\n",
            "Enter the Authorization code:2\n",
            "Invalid authorization code\n",
            "Enter the Authorization code:1\n",
            "Door Opened\n",
            "Welcome to the Party, We Hope you have fun.\n",
            "Total number of guests attended the party: 4\n"
          ]
        }
      ]
    },
    {
      "cell_type": "markdown",
      "source": [
        "Mathew, a 13 year old kid, is good at math but whenever it comes to the even and odd numbers he always faces difficulty to find the even or odd number greater than 10. So write a python program to help Mathew to print odd and even numbers in a certain range using a for loop."
      ],
      "metadata": {
        "id": "OCKpDazjNTyL"
      }
    },
    {
      "cell_type": "code",
      "source": [
        "min_range = int(input(\"Enter the First number:\"))\n",
        "max_range = int(input(\"Enter the Second number:\"))\n",
        "print(\"Even Numbers between {} and {}\".format(min_range,max_range))\n",
        "for i in range(min_range,max_range+1):\n",
        "  if i%2 == 0:\n",
        "    print(i)\n",
        "print(\"Odd Numbers between {} and {}\".format(min_range,max_range))\n",
        "for i in range(min_range,max_range+1):\n",
        "  if i%2 != 0:\n",
        "    print(i)"
      ],
      "metadata": {
        "colab": {
          "base_uri": "https://localhost:8080/"
        },
        "id": "xgFLKeDSNfMs",
        "outputId": "478075cc-83d5-4d4e-c2c7-24f7f3da3dc6"
      },
      "execution_count": null,
      "outputs": [
        {
          "output_type": "stream",
          "name": "stdout",
          "text": [
            "Enter the First number:10\n",
            "Enter the Second number:15\n",
            "Even Numbers between 10 and 15\n",
            "10\n",
            "12\n",
            "14\n",
            "Odd Numbers between 10 and 15\n",
            "11\n",
            "13\n",
            "15\n"
          ]
        }
      ]
    },
    {
      "cell_type": "markdown",
      "source": [
        "An online essay writing competition was held in a school. The students were required to write at least 250 words. According to the rule, only that essay should be checked which contains at least 250 words. Teachers were just guessing the number of words in the essay but that was not an accurate way to count the number of words. So write a program that can count the number of words in an essay ( Hint: Take input and count the number of words using for loop | Note: to count the number of words you can just count the number of blank spaces given in the input. )"
      ],
      "metadata": {
        "id": "nTVAYMCjNyyA"
      }
    },
    {
      "cell_type": "code",
      "source": [
        "str1 = input(\"Enter your essay:\")\n",
        "wrd_count = 0\n",
        "for i in str1:\n",
        "  if i == ' ':\n",
        "    wrd_count += 1\n",
        "wrd_count += 1\n",
        "print(\"Total number of words in Essay: {}\".format(wrd_count))\n"
      ],
      "metadata": {
        "colab": {
          "base_uri": "https://localhost:8080/"
        },
        "id": "d3ufEvX-N5Z9",
        "outputId": "0a31f2b5-c138-4611-ceb6-118a2c460e9b"
      },
      "execution_count": null,
      "outputs": [
        {
          "output_type": "stream",
          "name": "stdout",
          "text": [
            "Enter your essay:bd sdbb bdb sab b hydabdb gbydnfnm  gggd gghdsahbb s dhhh dagg hgyhdfabb yhhdsahug hgbdsah ghhfdshg hyghfhsahgh \n",
            "Total number of words in Essay: 19\n"
          ]
        }
      ]
    },
    {
      "cell_type": "markdown",
      "source": [
        "Create  a program that find the number is prime number or not."
      ],
      "metadata": {
        "id": "KU6vWj1pRA6U"
      }
    },
    {
      "cell_type": "code",
      "source": [
        "num = int(input(\"Enter a number:\"))\n",
        "if num > 1:\n",
        "  for i in range(2,num):\n",
        "    if num%i == 0:\n",
        "      print(num,\"is not a Prime Number\")\n",
        "      break\n",
        "  else:\n",
        "    print(num,\"is a Prime Number\")\n",
        "else:\n",
        "  print(num,\"is not a Prime Number\")"
      ],
      "metadata": {
        "colab": {
          "base_uri": "https://localhost:8080/"
        },
        "id": "WpjnuyRfRG-m",
        "outputId": "7d52c4db-7a6b-45eb-d8e6-f000e3066ecd"
      },
      "execution_count": null,
      "outputs": [
        {
          "output_type": "stream",
          "name": "stdout",
          "text": [
            "Enter a number:5\n",
            "5 is a Prime Number\n"
          ]
        }
      ]
    }
  ]
}