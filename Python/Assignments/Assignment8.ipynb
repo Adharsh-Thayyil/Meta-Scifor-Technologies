{
  "nbformat": 4,
  "nbformat_minor": 0,
  "metadata": {
    "colab": {
      "provenance": [],
      "authorship_tag": "ABX9TyMUP17t3Wzn03Fkepn6JVab"
    },
    "kernelspec": {
      "name": "python3",
      "display_name": "Python 3"
    },
    "language_info": {
      "name": "python"
    }
  },
  "cells": [
    {
      "cell_type": "markdown",
      "source": [
        "# **Assignment-8(Random Module)**"
      ],
      "metadata": {
        "id": "JO7X3DZ06Kex"
      }
    },
    {
      "cell_type": "markdown",
      "source": [
        "## Random Choice Method"
      ],
      "metadata": {
        "id": "P1ZsEeAx6Vpp"
      }
    },
    {
      "cell_type": "code",
      "execution_count": null,
      "metadata": {
        "colab": {
          "base_uri": "https://localhost:8080/"
        },
        "id": "xaLBCGVp6Chp",
        "outputId": "f3f57858-4b1c-4adc-b5cc-3bfbd4e81080"
      },
      "outputs": [
        {
          "output_type": "stream",
          "name": "stdout",
          "text": [
            "2\n"
          ]
        }
      ],
      "source": [
        "import random\n",
        "x = [1,2,3,4,5,6]\n",
        "print(random.choice(x))"
      ]
    },
    {
      "cell_type": "code",
      "source": [
        "import random\n",
        "a = [\"Rock\",\"Paper\",\"Scissor\"]\n",
        "print(random.choice(a))"
      ],
      "metadata": {
        "colab": {
          "base_uri": "https://localhost:8080/"
        },
        "id": "K5Q310H96hFR",
        "outputId": "5aac1183-a057-4946-99e8-ed75b483baf4"
      },
      "execution_count": null,
      "outputs": [
        {
          "output_type": "stream",
          "name": "stdout",
          "text": [
            "Rock\n"
          ]
        }
      ]
    },
    {
      "cell_type": "code",
      "source": [
        "import random\n",
        "x = \"ADHARSH\"\n",
        "print(random.choice(x))"
      ],
      "metadata": {
        "colab": {
          "base_uri": "https://localhost:8080/"
        },
        "id": "-cZf-uuJ6mDS",
        "outputId": "ae17b52f-22d2-4e67-a64d-de036db66efc"
      },
      "execution_count": null,
      "outputs": [
        {
          "output_type": "stream",
          "name": "stdout",
          "text": [
            "H\n"
          ]
        }
      ]
    },
    {
      "cell_type": "markdown",
      "source": [
        "## Random choices() Method"
      ],
      "metadata": {
        "id": "8iKZPv9X6tgE"
      }
    },
    {
      "cell_type": "code",
      "source": [
        "import random\n",
        "x = [\"Rock\",\"Paper\",\"Scissor\"]\n",
        "print(random.choices(x,weights = [10,1,1], k=15))"
      ],
      "metadata": {
        "colab": {
          "base_uri": "https://localhost:8080/"
        },
        "id": "HxCqVmVj6vMA",
        "outputId": "610ca1f0-8597-44e4-9f2b-12c4a44216a8"
      },
      "execution_count": null,
      "outputs": [
        {
          "output_type": "stream",
          "name": "stdout",
          "text": [
            "['Rock', 'Paper', 'Rock', 'Rock', 'Rock', 'Rock', 'Scissor', 'Rock', 'Rock', 'Rock', 'Rock', 'Rock', 'Paper', 'Rock', 'Paper']\n"
          ]
        }
      ]
    },
    {
      "cell_type": "markdown",
      "source": [
        "## Random randrange() Method"
      ],
      "metadata": {
        "id": "kiwqIYMR65u9"
      }
    },
    {
      "cell_type": "code",
      "source": [
        "import random\n",
        "print(random.randrange(1, 15))"
      ],
      "metadata": {
        "colab": {
          "base_uri": "https://localhost:8080/"
        },
        "id": "G45fIIY4666y",
        "outputId": "616b3b8f-6f3a-41b4-98e9-598526f2b2f0"
      },
      "execution_count": null,
      "outputs": [
        {
          "output_type": "stream",
          "name": "stdout",
          "text": [
            "6\n"
          ]
        }
      ]
    },
    {
      "cell_type": "code",
      "source": [
        "import random\n",
        "print(random.randrange(1, 15, 3))"
      ],
      "metadata": {
        "colab": {
          "base_uri": "https://localhost:8080/"
        },
        "id": "GUl8g7s47GNL",
        "outputId": "15083b3f-ba18-4dde-eb4b-cafb53d7a0ad"
      },
      "execution_count": null,
      "outputs": [
        {
          "output_type": "stream",
          "name": "stdout",
          "text": [
            "13\n"
          ]
        }
      ]
    },
    {
      "cell_type": "markdown",
      "source": [
        "## Random randint() Method"
      ],
      "metadata": {
        "id": "2_rTpd8S7ZFF"
      }
    },
    {
      "cell_type": "code",
      "source": [
        "import random\n",
        "print(random.randint(1, 9))"
      ],
      "metadata": {
        "colab": {
          "base_uri": "https://localhost:8080/"
        },
        "id": "xA-GwAjd7dTn",
        "outputId": "ab0cdb39-6b16-4326-cfa5-780119308808"
      },
      "execution_count": null,
      "outputs": [
        {
          "output_type": "stream",
          "name": "stdout",
          "text": [
            "9\n"
          ]
        }
      ]
    },
    {
      "cell_type": "markdown",
      "source": [
        "## Random shuffle() Method"
      ],
      "metadata": {
        "id": "q6KSjBlo7o4Q"
      }
    },
    {
      "cell_type": "code",
      "source": [
        "import random\n",
        "x = [1,2,3,4,5,6]\n",
        "print(x)\n",
        "random.shuffle(x)\n",
        "print(x)"
      ],
      "metadata": {
        "colab": {
          "base_uri": "https://localhost:8080/"
        },
        "id": "MLmEU6Sf7qbW",
        "outputId": "9d887d1a-1d06-4737-dbc7-27646553a1d5"
      },
      "execution_count": null,
      "outputs": [
        {
          "output_type": "stream",
          "name": "stdout",
          "text": [
            "[1, 2, 3, 4, 5, 6]\n",
            "[4, 5, 2, 1, 6, 3]\n"
          ]
        }
      ]
    },
    {
      "cell_type": "markdown",
      "source": [
        "## Random sample() Method"
      ],
      "metadata": {
        "id": "-zvWJEqq70O2"
      }
    },
    {
      "cell_type": "code",
      "source": [
        "import random\n",
        "x = [\"Rock\", \"Paper\", \"Scissor\"]\n",
        "print(random.sample(x, k=2))"
      ],
      "metadata": {
        "colab": {
          "base_uri": "https://localhost:8080/"
        },
        "id": "nIorZJtk74LK",
        "outputId": "140c7f9b-5f64-4342-bd43-a405c78ac1eb"
      },
      "execution_count": null,
      "outputs": [
        {
          "output_type": "stream",
          "name": "stdout",
          "text": [
            "['Scissor', 'Rock']\n"
          ]
        }
      ]
    },
    {
      "cell_type": "markdown",
      "source": [
        "## Random random() Method"
      ],
      "metadata": {
        "id": "sTnjAOZV79Zw"
      }
    },
    {
      "cell_type": "code",
      "source": [
        "# Return random number between 0.0 and 1.0:\n",
        "\n",
        "import random\n",
        "print(random.random())"
      ],
      "metadata": {
        "colab": {
          "base_uri": "https://localhost:8080/"
        },
        "id": "ZbHPYrWp7-7j",
        "outputId": "548b99fb-32d4-4c80-dc45-62f54221d2b6"
      },
      "execution_count": null,
      "outputs": [
        {
          "output_type": "stream",
          "name": "stdout",
          "text": [
            "0.3046183022641583\n"
          ]
        }
      ]
    },
    {
      "cell_type": "markdown",
      "source": [
        "## Random uniform() Method"
      ],
      "metadata": {
        "id": "rJDtcirP8H_R"
      }
    },
    {
      "cell_type": "code",
      "source": [
        "# Return a random number between, and included, 10 and 15:\n",
        "\n",
        "import random\n",
        "print(random.uniform(10, 15))"
      ],
      "metadata": {
        "colab": {
          "base_uri": "https://localhost:8080/"
        },
        "id": "JRUYb3vA8Jbl",
        "outputId": "7ee2e813-2f0e-4a60-8919-7e1dc600ace2"
      },
      "execution_count": null,
      "outputs": [
        {
          "output_type": "stream",
          "name": "stdout",
          "text": [
            "14.094574602783581\n"
          ]
        }
      ]
    },
    {
      "cell_type": "markdown",
      "source": [
        "## Random triangular() Method"
      ],
      "metadata": {
        "id": "660DMVIp8Qxq"
      }
    },
    {
      "cell_type": "code",
      "source": [
        "# Return a random number between, and included, 20 and 60, Default the midpoint between the low and high values:\n",
        "\n",
        "import random\n",
        "print(random.triangular(20, 60))"
      ],
      "metadata": {
        "colab": {
          "base_uri": "https://localhost:8080/"
        },
        "id": "0ckrpRpk8R66",
        "outputId": "38bc3c89-ccda-4d9b-ca18-c0a6086aa647"
      },
      "execution_count": null,
      "outputs": [
        {
          "output_type": "stream",
          "name": "stdout",
          "text": [
            "53.9297605069693\n"
          ]
        }
      ]
    },
    {
      "cell_type": "code",
      "source": [
        "# Return a random number between, and included, 20 and 60, but most likely closer to 20:\n",
        "\n",
        "import random\n",
        "print(random.triangular(20, 60, 30))"
      ],
      "metadata": {
        "colab": {
          "base_uri": "https://localhost:8080/"
        },
        "id": "9mvBl7jJ8YU1",
        "outputId": "4290f6a3-13d4-4e49-890f-5ab3a24c993f"
      },
      "execution_count": null,
      "outputs": [
        {
          "output_type": "stream",
          "name": "stdout",
          "text": [
            "35.10747870598183\n"
          ]
        }
      ]
    }
  ]
}