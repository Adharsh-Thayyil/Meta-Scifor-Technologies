{
  "nbformat": 4,
  "nbformat_minor": 0,
  "metadata": {
    "colab": {
      "provenance": [],
      "authorship_tag": "ABX9TyP8v89dVWI6bbJJDEGsJhzJ"
    },
    "kernelspec": {
      "name": "python3",
      "display_name": "Python 3"
    },
    "language_info": {
      "name": "python"
    }
  },
  "cells": [
    {
      "cell_type": "code",
      "execution_count": null,
      "metadata": {
        "colab": {
          "base_uri": "https://localhost:8080/"
        },
        "id": "4QrjNdvrU-HP",
        "outputId": "79e27e52-9e12-4f07-977b-c9db1b3fd4b7"
      },
      "outputs": [
        {
          "output_type": "stream",
          "name": "stdout",
          "text": [
            "         id                 name  est_diameter_min  est_diameter_max  \\\n",
            "0   2162635  162635 (2000 SS164)          1.198271          2.679415   \n",
            "1   2277475    277475 (2005 WK4)          0.265800          0.594347   \n",
            "2   2512244   512244 (2015 YE18)          0.722030          1.614507   \n",
            "3   3596030          (2012 BV13)          0.096506          0.215794   \n",
            "4   3667127          (2014 GE35)          0.255009          0.570217   \n",
            "5  54138696          (2021 GY23)          0.036354          0.081291   \n",
            "6  54189957          (2021 PY40)          0.171615          0.383743   \n",
            "7  54230078           (2021 XD6)          0.005328          0.011914   \n",
            "8   2088213     88213 (2001 AF2)          0.350393          0.783502   \n",
            "9   3766065            (2016 YM)          0.105817          0.236614   \n",
            "\n",
            "   relative_velocity  miss_distance orbiting_body  sentry_object  \\\n",
            "0       13569.249224   5.483974e+07         Earth          False   \n",
            "1       73588.726663   6.143813e+07         Earth          False   \n",
            "2      114258.692129   4.979872e+07         Earth          False   \n",
            "3       24764.303138   2.543497e+07         Earth          False   \n",
            "4       42737.733765   4.627557e+07         Earth          False   \n",
            "5       34297.587778   4.058569e+07         Earth          False   \n",
            "6       27529.472307   2.906912e+07         Earth          False   \n",
            "7       57544.470083   5.511502e+07         Earth          False   \n",
            "8       56625.210122   6.903598e+07         Earth          False   \n",
            "9       48425.840329   3.835526e+07         Earth          False   \n",
            "\n",
            "   absolute_magnitude  hazardous  \n",
            "0               16.73      False  \n",
            "1               20.00       True  \n",
            "2               17.83      False  \n",
            "3               22.20      False  \n",
            "4               20.09       True  \n",
            "5               24.32      False  \n",
            "6               20.95      False  \n",
            "7               28.49      False  \n",
            "8               19.40      False  \n",
            "9               22.00      False  \n"
          ]
        }
      ],
      "source": [
        "import pandas as pd\n",
        "import numpy as np\n",
        "\n",
        "df = pd.read_csv(\"/content/neo.csv\")\n",
        "print(df.head(10))"
      ]
    },
    {
      "cell_type": "code",
      "source": [
        "print(df.info())"
      ],
      "metadata": {
        "colab": {
          "base_uri": "https://localhost:8080/"
        },
        "id": "0bvCXi-jXpf8",
        "outputId": "9b09c242-ff87-4cf2-ed45-10ccb181d71a"
      },
      "execution_count": null,
      "outputs": [
        {
          "output_type": "stream",
          "name": "stdout",
          "text": [
            "<class 'pandas.core.frame.DataFrame'>\n",
            "RangeIndex: 90836 entries, 0 to 90835\n",
            "Data columns (total 10 columns):\n",
            " #   Column              Non-Null Count  Dtype  \n",
            "---  ------              --------------  -----  \n",
            " 0   id                  90836 non-null  int64  \n",
            " 1   name                90836 non-null  object \n",
            " 2   est_diameter_min    90836 non-null  float64\n",
            " 3   est_diameter_max    90836 non-null  float64\n",
            " 4   relative_velocity   90836 non-null  float64\n",
            " 5   miss_distance       90836 non-null  float64\n",
            " 6   orbiting_body       90836 non-null  object \n",
            " 7   sentry_object       90836 non-null  bool   \n",
            " 8   absolute_magnitude  90836 non-null  float64\n",
            " 9   hazardous           90836 non-null  bool   \n",
            "dtypes: bool(2), float64(5), int64(1), object(2)\n",
            "memory usage: 5.7+ MB\n",
            "None\n"
          ]
        }
      ]
    },
    {
      "cell_type": "code",
      "source": [
        "import pandas as pd\n",
        "import numpy as np\n",
        "\n",
        "df = pd.read_csv('/content/neo.csv')\n",
        "print(df.shape)"
      ],
      "metadata": {
        "colab": {
          "base_uri": "https://localhost:8080/"
        },
        "id": "7fFSyF48YRgt",
        "outputId": "ea20399d-7287-4295-fe9d-35385e2aa629"
      },
      "execution_count": null,
      "outputs": [
        {
          "output_type": "stream",
          "name": "stdout",
          "text": [
            "(90836, 10)\n"
          ]
        }
      ]
    },
    {
      "cell_type": "code",
      "source": [
        "import pandas as pd\n",
        "import numpy as np\n",
        "\n",
        "df = pd.read_csv('/content/neo.csv')\n",
        "print(df.dtypes)"
      ],
      "metadata": {
        "colab": {
          "base_uri": "https://localhost:8080/"
        },
        "id": "xFCQB2sjYt0t",
        "outputId": "47490f5d-f0aa-4a1f-d493-edef55a76030"
      },
      "execution_count": null,
      "outputs": [
        {
          "output_type": "stream",
          "name": "stdout",
          "text": [
            "id                      int64\n",
            "name                   object\n",
            "est_diameter_min      float64\n",
            "est_diameter_max      float64\n",
            "relative_velocity     float64\n",
            "miss_distance         float64\n",
            "orbiting_body          object\n",
            "sentry_object            bool\n",
            "absolute_magnitude    float64\n",
            "hazardous                bool\n",
            "dtype: object\n"
          ]
        }
      ]
    },
    {
      "cell_type": "code",
      "source": [
        "import pandas as pd\n",
        "import numpy as np\n",
        "\n",
        "df = pd.read_csv('/content/neo.csv')\n",
        "print(df.isnull().sum())"
      ],
      "metadata": {
        "colab": {
          "base_uri": "https://localhost:8080/"
        },
        "id": "39DpllN5ZE08",
        "outputId": "83151ca8-2116-4a30-b339-20f402a86263"
      },
      "execution_count": null,
      "outputs": [
        {
          "output_type": "stream",
          "name": "stdout",
          "text": [
            "id                    0\n",
            "name                  0\n",
            "est_diameter_min      0\n",
            "est_diameter_max      0\n",
            "relative_velocity     0\n",
            "miss_distance         0\n",
            "orbiting_body         0\n",
            "sentry_object         0\n",
            "absolute_magnitude    0\n",
            "hazardous             0\n",
            "dtype: int64\n"
          ]
        }
      ]
    },
    {
      "cell_type": "code",
      "source": [
        "import pandas as pd\n",
        "import numpy as np\n",
        "\n",
        "df = pd.read_csv('/content/neo.csv')\n",
        "diameters = df['est_diameter_min'].values\n",
        "average_diameter = np.mean(diameters)\n",
        "print(\"average diameter\",average_diameter,\"m\")"
      ],
      "metadata": {
        "colab": {
          "base_uri": "https://localhost:8080/"
        },
        "id": "DKbAu1GFZcJy",
        "outputId": "450c7610-0ab3-4cff-ca8d-dfc6b4fe8f34"
      },
      "execution_count": null,
      "outputs": [
        {
          "output_type": "stream",
          "name": "stdout",
          "text": [
            "average diameter 0.12743210631522306 m\n"
          ]
        }
      ]
    },
    {
      "cell_type": "code",
      "source": [
        "import pandas as pd\n",
        "import numpy as np\n",
        "\n",
        "df = pd.read_csv('/content/neo.csv')\n",
        "max_velocity = np.max(df['relative_velocity'])\n",
        "print(\"Maximum Relative Velocity\",max_velocity)"
      ],
      "metadata": {
        "colab": {
          "base_uri": "https://localhost:8080/"
        },
        "id": "Kobei4MTajH0",
        "outputId": "15dd8fd5-de12-46ba-8137-76351b2ed04d"
      },
      "execution_count": null,
      "outputs": [
        {
          "output_type": "stream",
          "name": "stdout",
          "text": [
            "Maximum Relative Velocity 236990.1280878666\n"
          ]
        }
      ]
    },
    {
      "cell_type": "code",
      "source": [
        "import pandas as pd\n",
        "import numpy as np\n",
        "\n",
        "df = pd.read_csv('/content/neo.csv')\n",
        "condition = df['est_diameter_min'] < 100\n",
        "count_numpy = np.sum(condition)\n",
        "print(\"Count of object with diameter less than 100:\",count_numpy)"
      ],
      "metadata": {
        "colab": {
          "base_uri": "https://localhost:8080/"
        },
        "id": "PlgexmMNbeYg",
        "outputId": "a8f56673-768a-4f77-92db-b97bfa1e5175"
      },
      "execution_count": null,
      "outputs": [
        {
          "output_type": "stream",
          "name": "stdout",
          "text": [
            "Count of object with diameter less than 100: 90836\n"
          ]
        }
      ]
    },
    {
      "cell_type": "code",
      "source": [
        "import pandas as pd\n",
        "import numpy as np\n",
        "\n",
        "df = pd.read_csv('/content/neo.csv')\n",
        "print(df.describe())"
      ],
      "metadata": {
        "colab": {
          "base_uri": "https://localhost:8080/"
        },
        "id": "zsU_8YcRc2-O",
        "outputId": "21df17de-69c3-4dff-d494-11d68d78bc67"
      },
      "execution_count": null,
      "outputs": [
        {
          "output_type": "stream",
          "name": "stdout",
          "text": [
            "                 id  est_diameter_min  est_diameter_max  relative_velocity  \\\n",
            "count  9.083600e+04      90836.000000      90836.000000       90836.000000   \n",
            "mean   1.438288e+07          0.127432          0.284947       48066.918918   \n",
            "std    2.087202e+07          0.298511          0.667491       25293.296961   \n",
            "min    2.000433e+06          0.000609          0.001362         203.346433   \n",
            "25%    3.448110e+06          0.019256          0.043057       28619.020645   \n",
            "50%    3.748362e+06          0.048368          0.108153       44190.117890   \n",
            "75%    3.884023e+06          0.143402          0.320656       62923.604633   \n",
            "max    5.427591e+07         37.892650         84.730541      236990.128088   \n",
            "\n",
            "       miss_distance  absolute_magnitude  \n",
            "count   9.083600e+04        90836.000000  \n",
            "mean    3.706655e+07           23.527103  \n",
            "std     2.235204e+07            2.894086  \n",
            "min     6.745533e+03            9.230000  \n",
            "25%     1.721082e+07           21.340000  \n",
            "50%     3.784658e+07           23.700000  \n",
            "75%     5.654900e+07           25.700000  \n",
            "max     7.479865e+07           33.200000  \n"
          ]
        }
      ]
    },
    {
      "cell_type": "code",
      "source": [
        "import pandas as pd\n",
        "import numpy as np\n",
        "\n",
        "df = pd.read_csv('/content/neo.csv')\n",
        "print(df.tail(10))"
      ],
      "metadata": {
        "colab": {
          "base_uri": "https://localhost:8080/"
        },
        "id": "JtlvEZ3VdEZE",
        "outputId": "14247ad2-25c1-4f14-fa9b-18113109fbd9"
      },
      "execution_count": null,
      "outputs": [
        {
          "output_type": "stream",
          "name": "stdout",
          "text": [
            "             id          name  est_diameter_min  est_diameter_max  \\\n",
            "90826   3837953    (2019 BF1)          0.086807          0.194106   \n",
            "90827  54087420     (2020 VL)          0.024692          0.055213   \n",
            "90828   3363723    (2006 XW4)          0.036691          0.082043   \n",
            "90829   3587872     (2011 WA)          0.123184          0.275448   \n",
            "90830   3678630  (2014 OL339)          0.069913          0.156329   \n",
            "90831   3763337    (2016 VX1)          0.026580          0.059435   \n",
            "90832   3837603    (2019 AD3)          0.016771          0.037501   \n",
            "90833  54017201    (2020 JP3)          0.031956          0.071456   \n",
            "90834  54115824    (2021 CN5)          0.007321          0.016370   \n",
            "90835  54205447    (2021 TW7)          0.039862          0.089133   \n",
            "\n",
            "       relative_velocity  miss_distance orbiting_body  sentry_object  \\\n",
            "90826       45322.795023   4.095345e+07         Earth          False   \n",
            "90827       14655.044804   1.766750e+07         Earth          False   \n",
            "90828       26172.119254   2.249368e+06         Earth          False   \n",
            "90829       80671.310009   6.897365e+07         Earth          False   \n",
            "90830       38102.469622   4.667988e+07         Earth          False   \n",
            "90831       52078.886692   1.230039e+07         Earth          False   \n",
            "90832       46114.605073   5.432121e+07         Earth          False   \n",
            "90833        7566.807732   2.840077e+07         Earth          False   \n",
            "90834       69199.154484   6.869206e+07         Earth          False   \n",
            "90835       27024.455553   5.977213e+07         Earth          False   \n",
            "\n",
            "       absolute_magnitude  hazardous  \n",
            "90826               22.43      False  \n",
            "90827               25.16      False  \n",
            "90828               24.30      False  \n",
            "90829               21.67      False  \n",
            "90830               22.90      False  \n",
            "90831               25.00      False  \n",
            "90832               26.00      False  \n",
            "90833               24.60      False  \n",
            "90834               27.80      False  \n",
            "90835               24.12      False  \n"
          ]
        }
      ]
    },
    {
      "cell_type": "code",
      "source": [
        "import pandas as pd\n",
        "import numpy as np\n",
        "\n",
        "df = pd.read_csv('/content/neo.csv')\n",
        "max_value = df['miss_distance'].max()\n",
        "min_value = df['miss_distance'].min()\n",
        "print(\"Maximum Miss Distance:\",max_value)\n",
        "print(\"Minimum Miss Distance:\",min_value)"
      ],
      "metadata": {
        "colab": {
          "base_uri": "https://localhost:8080/"
        },
        "id": "VjmPPgOpdPZE",
        "outputId": "3ef60f39-fdac-4c49-90f0-ff052dffe7cd"
      },
      "execution_count": null,
      "outputs": [
        {
          "output_type": "stream",
          "name": "stdout",
          "text": [
            "Maximum Miss Distance: 74798651.4521972\n",
            "Minimum Miss Distance: 6745.532515957\n"
          ]
        }
      ]
    },
    {
      "cell_type": "code",
      "source": [
        "import matplotlib.pyplot as plt\n",
        "\n",
        "plt.figure(figsize = (8,10))\n",
        "df['miss_distance'].plot(kind = 'hist', bins = 20 ,color ='green',edgecolor = 'black')\n",
        "plt.title('Histogram of Miss Distance')\n",
        "plt.xlabel(\"Miss Distance in Kilometres\")\n",
        "plt.ylabel(\"Frequency\")\n",
        "plt.grid(True)\n",
        "plt.show()"
      ],
      "metadata": {
        "colab": {
          "base_uri": "https://localhost:8080/",
          "height": 872
        },
        "id": "faioZSmUeXBv",
        "outputId": "243c9939-d4bc-4f37-bde7-3d201a6f0d03"
      },
      "execution_count": null,
      "outputs": [
        {
          "output_type": "display_data",
          "data": {
            "text/plain": [
              "<Figure size 800x1000 with 1 Axes>"
            ],
            "image/png": "[encoded data removed]"
          },
          "metadata": {}
        }
      ]
    }
  ]
}