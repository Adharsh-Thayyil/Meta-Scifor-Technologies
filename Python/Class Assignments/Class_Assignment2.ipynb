{
  "nbformat": 4,
  "nbformat_minor": 0,
  "metadata": {
    "colab": {
      "provenance": [],
      "authorship_tag": "ABX9TyOuUtCfXTu4rIQMufVxhWDk"
    },
    "kernelspec": {
      "name": "python3",
      "display_name": "Python 3"
    },
    "language_info": {
      "name": "python"
    }
  },
  "cells": [
    {
      "cell_type": "markdown",
      "source": [
        "# **Class Assignment-2**"
      ],
      "metadata": {
        "id": "bBhIHVUa7jd_"
      }
    },
    {
      "cell_type": "markdown",
      "source": [
        "Create a prime number using for loop and also while loop"
      ],
      "metadata": {
        "id": "NkDGDlemLrAx"
      }
    },
    {
      "cell_type": "code",
      "execution_count": null,
      "metadata": {
        "colab": {
          "base_uri": "https://localhost:8080/"
        },
        "id": "wXFWdzkOLh1G",
        "outputId": "fd43015f-db59-4596-fc0e-e459bbf9fa63"
      },
      "outputs": [
        {
          "output_type": "stream",
          "name": "stdout",
          "text": [
            "Enter a number:5\n",
            "5 is a Prime Number\n"
          ]
        }
      ],
      "source": [
        "# Using for loop\n",
        "num = int(input(\"Enter a number:\"))\n",
        "if num > 1:\n",
        "  for i in range(2,num):\n",
        "    if num%i == 0:\n",
        "      print(num,\"is not a Prime Number\")\n",
        "      break\n",
        "  else:\n",
        "    print(num,\"is a Prime Number\")\n",
        "else:\n",
        "  print(num,\"is not a Prime Number\")"
      ]
    },
    {
      "cell_type": "code",
      "source": [
        "#Using while loop\n",
        "num = int(input(\"Enter a number:\"))\n",
        "if num <= 1:\n",
        "  print(num,\"is not a prime number\")\n",
        "else:\n",
        "  prime = True\n",
        "  i = 2\n",
        "  while i < num:\n",
        "    if num%i == 0:\n",
        "      prime = False\n",
        "      break\n",
        "    i += 1\n",
        "  print(num,\"is a prime number\"if prime else \"is not a prime number\")"
      ],
      "metadata": {
        "colab": {
          "base_uri": "https://localhost:8080/"
        },
        "id": "mlDt5DhAMaxr",
        "outputId": "1f92c4b3-1e9e-4788-c9ad-9aec7c4ad941"
      },
      "execution_count": null,
      "outputs": [
        {
          "output_type": "stream",
          "name": "stdout",
          "text": [
            "Enter a number:6\n",
            "6 is not a prime\n"
          ]
        }
      ]
    },
    {
      "cell_type": "markdown",
      "source": [
        "Create a range of tables using while loop"
      ],
      "metadata": {
        "id": "SjbWvOM8OvE7"
      }
    },
    {
      "cell_type": "code",
      "source": [
        "num1 = int(input(\"Enter the first number:\"))\n",
        "num2 = int(input(\"Enter the second number:\"))\n",
        "while num1 <= num2:\n",
        "  print(\"Multiplication Table of {}\".format(num1))\n",
        "  i = 1\n",
        "  while i <= 10:\n",
        "    print(\"{} x {} = {}\".format(num1,i,(num1*i)))\n",
        "    i += 1\n",
        "  num1 += 1"
      ],
      "metadata": {
        "colab": {
          "base_uri": "https://localhost:8080/"
        },
        "id": "nc7C3aUxOwoz",
        "outputId": "65f9d68f-528c-4996-f207-ff505e9decd2"
      },
      "execution_count": null,
      "outputs": [
        {
          "output_type": "stream",
          "name": "stdout",
          "text": [
            "Enter the first number:1\n",
            "Enter the second number:5\n",
            "Multiplication Table of 1\n",
            "1 x 1 = 1\n",
            "1 x 2 = 2\n",
            "1 x 3 = 3\n",
            "1 x 4 = 4\n",
            "1 x 5 = 5\n",
            "1 x 6 = 6\n",
            "1 x 7 = 7\n",
            "1 x 8 = 8\n",
            "1 x 9 = 9\n",
            "1 x 10 = 10\n",
            "Multiplication Table of 2\n",
            "2 x 1 = 2\n",
            "2 x 2 = 4\n",
            "2 x 3 = 6\n",
            "2 x 4 = 8\n",
            "2 x 5 = 10\n",
            "2 x 6 = 12\n",
            "2 x 7 = 14\n",
            "2 x 8 = 16\n",
            "2 x 9 = 18\n",
            "2 x 10 = 20\n",
            "Multiplication Table of 3\n",
            "3 x 1 = 3\n",
            "3 x 2 = 6\n",
            "3 x 3 = 9\n",
            "3 x 4 = 12\n",
            "3 x 5 = 15\n",
            "3 x 6 = 18\n",
            "3 x 7 = 21\n",
            "3 x 8 = 24\n",
            "3 x 9 = 27\n",
            "3 x 10 = 30\n",
            "Multiplication Table of 4\n",
            "4 x 1 = 4\n",
            "4 x 2 = 8\n",
            "4 x 3 = 12\n",
            "4 x 4 = 16\n",
            "4 x 5 = 20\n",
            "4 x 6 = 24\n",
            "4 x 7 = 28\n",
            "4 x 8 = 32\n",
            "4 x 9 = 36\n",
            "4 x 10 = 40\n",
            "Multiplication Table of 5\n",
            "5 x 1 = 5\n",
            "5 x 2 = 10\n",
            "5 x 3 = 15\n",
            "5 x 4 = 20\n",
            "5 x 5 = 25\n",
            "5 x 6 = 30\n",
            "5 x 7 = 35\n",
            "5 x 8 = 40\n",
            "5 x 9 = 45\n",
            "5 x 10 = 50\n"
          ]
        }
      ]
    }
  ]
}