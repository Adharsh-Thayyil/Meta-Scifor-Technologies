{
  "nbformat": 4,
  "nbformat_minor": 0,
  "metadata": {
    "colab": {
      "provenance": [],
      "authorship_tag": "ABX9TyOzaRHdoPPID6gQNn/1XQ1f"
    },
    "kernelspec": {
      "name": "python3",
      "display_name": "Python 3"
    },
    "language_info": {
      "name": "python"
    }
  },
  "cells": [
    {
      "cell_type": "markdown",
      "source": [
        "# **Class Assignment-1**"
      ],
      "metadata": {
        "id": "nh171WPg7FM0"
      }
    },
    {
      "cell_type": "markdown",
      "source": [
        "Jack has been experimenting a lot with mirrors in his Physics class. He was very distracted throughout his entire school day as he spent all day thinking about mirrors and mirror images. When Jack went to his computer class, he finally found a solution, he wanted to create a computer program that can take a three letter string input from the user and display the mirror image of it. Write a program for the same."
      ],
      "metadata": {
        "id": "f_jS-UTsRuLX"
      }
    },
    {
      "cell_type": "code",
      "execution_count": null,
      "metadata": {
        "colab": {
          "base_uri": "https://localhost:8080/"
        },
        "id": "Dm4vuJBfQkfF",
        "outputId": "770fc363-4d6c-46d7-d22a-acd792015107"
      },
      "outputs": [
        {
          "output_type": "stream",
          "name": "stdout",
          "text": [
            "Enter a string: adharsh\n",
            "Mirror image : hsrahda\n"
          ]
        }
      ],
      "source": [
        "str1 = input(\"Enter a string: \")\n",
        "mirr_img = \"\"\n",
        "length =len(str1)\n",
        "while length > 0:\n",
        "  mirr_img += str1[length - 1]\n",
        "  length -= 1\n",
        "print(\"Mirror image :\",mirr_img)\n"
      ]
    },
    {
      "cell_type": "markdown",
      "source": [
        "Jacob recently learnt about Strings and concatenation in his computer class at his school. Jacob was truly fascinated by the working of strings and its various functions. Jacob was tasked with creating a program that can join two strings “Computer” and “Programming”. Write a program to help Jacob"
      ],
      "metadata": {
        "id": "AkkO8curU5Lt"
      }
    },
    {
      "cell_type": "code",
      "source": [
        "wrds = [\"Computer\",\"Programming\"]\n",
        "jstr = \" \".join(wrds)\n",
        "print(jstr)"
      ],
      "metadata": {
        "colab": {
          "base_uri": "https://localhost:8080/"
        },
        "id": "jl-WzDKHU7Na",
        "outputId": "c5fcfef2-115f-4adf-953f-4c11d9503d56"
      },
      "execution_count": null,
      "outputs": [
        {
          "output_type": "stream",
          "name": "stdout",
          "text": [
            "Computer Programming\n"
          ]
        }
      ]
    },
    {
      "cell_type": "markdown",
      "source": [
        "Bonnie visited the amusement park with her father. She enjoyed all the rides very much but one in particular caught her eye. The one and only rollercoaster!\n",
        "\n",
        "BUT!\n",
        "\n",
        "There is a age requirement for riding that coaster. The minimum age required is 10. If Bonnie is 15 years old, can we check if she can ride the rollercoaster?"
      ],
      "metadata": {
        "id": "rP0xrqutWrh8"
      }
    },
    {
      "cell_type": "code",
      "source": [
        "age = int(input(\"Enter the age:\"))\n",
        "if age>10:\n",
        "  print(\"Eligible for the ride\")\n",
        "else:\n",
        "  print(\"Not Eligible for the ride\")"
      ],
      "metadata": {
        "colab": {
          "base_uri": "https://localhost:8080/"
        },
        "id": "qxqMqP_-W65q",
        "outputId": "00c5bdd3-68e9-4eee-fb29-273554172e6b"
      },
      "execution_count": null,
      "outputs": [
        {
          "output_type": "stream",
          "name": "stdout",
          "text": [
            "Enter the age:15\n",
            "Eligible for the ride\n"
          ]
        }
      ]
    }
  ]
}