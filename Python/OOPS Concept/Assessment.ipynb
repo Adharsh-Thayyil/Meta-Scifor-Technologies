{
  "nbformat": 4,
  "nbformat_minor": 0,
  "metadata": {
    "colab": {
      "provenance": [],
      "authorship_tag": "ABX9TyP8NLA849Pu+7fQL6a/leLb"
    },
    "kernelspec": {
      "name": "python3",
      "display_name": "Python 3"
    },
    "language_info": {
      "name": "python"
    }
  },
  "cells": [
    {
      "cell_type": "markdown",
      "source": [
        "## **Polymorphism**"
      ],
      "metadata": {
        "id": "pccl5Wi3BtDT"
      }
    },
    {
      "cell_type": "code",
      "execution_count": null,
      "metadata": {
        "colab": {
          "base_uri": "https://localhost:8080/"
        },
        "id": "0Lc3EtM8Bsdg",
        "outputId": "b1b60e1c-b1c9-4184-bbe9-2fcbd9583916"
      },
      "outputs": [
        {
          "output_type": "stream",
          "name": "stdout",
          "text": [
            "Adharsh\n",
            "Abhay\n"
          ]
        }
      ],
      "source": [
        "class Student:\n",
        "  def __init__(self,name,roll_no,grade,is_on_probation):\n",
        "    self.name = name\n",
        "    self.roll_no = roll_no\n",
        "    self.grade = grade\n",
        "    self.is_on_probation = is_on_probation\n",
        "\n",
        "  def display_student(self):\n",
        "    print(f\"Name:{self.name} Roll.No:{self.roll_no} Grade:{self.grade} Probation:{'Yes' if self.is_on_probation else 'No'}\")\n",
        "\n",
        "def display_names(students):\n",
        "  for student in students:\n",
        "    print(student.name)\n",
        "\n",
        "student1 = Student(\"Adharsh\",\"1\",\"A\",True)\n",
        "student2 = Student(\"Abhay\",\"2\",\"B\",False)\n",
        "students = [student1,student2]\n",
        "display_names(students)"
      ]
    },
    {
      "cell_type": "markdown",
      "source": [
        "## **Encapsulation**"
      ],
      "metadata": {
        "id": "R6FGU1jaB7AG"
      }
    },
    {
      "cell_type": "code",
      "source": [
        "class Student:\n",
        "  def __init__(self, name, age):\n",
        "    self.__name = name\n",
        "    self.__age = age\n",
        "\n",
        "  def get_name(self):\n",
        "    return self.__name\n",
        "\n",
        "  def set_name(self, name):\n",
        "    self.__name = name\n",
        "\n",
        "  def get_age(self):\n",
        "    return self.__age\n",
        "\n",
        "  def set_age(self, age):\n",
        "    self.__age = age\n",
        "\n",
        "\n",
        "student = Student(\"Adharsh\", 25)\n",
        "\n",
        "print(\"Initial Name:\", student.get_name())\n",
        "student.set_name(\"Adharsh Thayyil\")\n",
        "print(\"Updated Name:\", student.get_name())\n",
        "\n",
        "print(\"Initial Age:\", student.get_age())\n",
        "student.set_age(26)\n",
        "print(\"Updated Age:\", student.get_age())\n"
      ],
      "metadata": {
        "colab": {
          "base_uri": "https://localhost:8080/"
        },
        "id": "lxbDXbViB6fz",
        "outputId": "64ed3264-fbb3-41f0-aa0b-9fa51c14307a"
      },
      "execution_count": null,
      "outputs": [
        {
          "output_type": "stream",
          "name": "stdout",
          "text": [
            "Initial Name: Adharsh\n",
            "Updated Name: Adharsh Thayyil\n",
            "Initial Age: 25\n",
            "Updated Age: 26\n"
          ]
        }
      ]
    },
    {
      "cell_type": "markdown",
      "source": [
        "## **Multiple Inheritance**\n",
        "\n",
        "\n",
        "\n"
      ],
      "metadata": {
        "id": "iIjJ1xTmCFFx"
      }
    },
    {
      "cell_type": "code",
      "source": [
        "class Student:\n",
        "  def __init__(self,name,age):\n",
        "    self.name = name\n",
        "    self.age = age\n",
        "\n",
        "  def display_info(self):\n",
        "    print(f\"Name: {self.name}, Age: {self.age}\")\n",
        "\n",
        "class Athlete:\n",
        "  def __init__(self, sport):\n",
        "    self.sport = sport\n",
        "\n",
        "  def display_info(self):\n",
        "    print(f\"Sport: {self.sport}\")\n",
        "\n",
        "class SportsScholar(Student, Athlete):\n",
        "  def __init__(self, name, age, grade, sport):\n",
        "    Student.__init__(self, name, age)\n",
        "    Athlete.__init__(self, sport)\n",
        "    self.grade = grade\n",
        "\n",
        "  def display_info(self):\n",
        "    Student.display_info(self)\n",
        "    Athlete.display_info(self)\n",
        "    print(f\"Grade: {self.grade}\")\n",
        "\n",
        "student1 = SportsScholar(\"Adharsh\",\"23\",\"B\",\"Football\")\n",
        "student1.display_info()"
      ],
      "metadata": {
        "colab": {
          "base_uri": "https://localhost:8080/"
        },
        "id": "JaAO9s1yCMF5",
        "outputId": "f55465fb-553d-4599-f58f-8739ef2f14b0"
      },
      "execution_count": null,
      "outputs": [
        {
          "output_type": "stream",
          "name": "stdout",
          "text": [
            "Name: Adharsh, Age: 23\n",
            "Sport: Football\n",
            "Grade: B\n"
          ]
        }
      ]
    },
    {
      "cell_type": "markdown",
      "source": [
        "## **Abstraction**"
      ],
      "metadata": {
        "id": "h0QVco30CbOW"
      }
    },
    {
      "cell_type": "code",
      "source": [
        "class Student:\n",
        "  def __init__(self,name,roll_no,grade):\n",
        "    self.name = name\n",
        "    self.roll_no = roll_no\n",
        "    self.grade = grade\n",
        "\n",
        "  def get_name(self):\n",
        "    return self.name\n",
        "\n",
        "  def get_roll_no(self):\n",
        "    return self.roll_no\n",
        "\n",
        "  def get_grade(self):\n",
        "    return self.grade\n",
        "\n",
        "student1 = Student(\"Adharsh\",\"1\",\"A\")\n",
        "\n",
        "print(\"Student Name:\",student1.get_name())\n",
        "print(\"Student Roll.No:\",student1.get_roll_no())\n",
        "print(\"Student Grade:\",student1.get_grade())"
      ],
      "metadata": {
        "colab": {
          "base_uri": "https://localhost:8080/"
        },
        "id": "qtPklVeXCfNB",
        "outputId": "3867113b-3df1-45e9-b276-fc7de8ee748d"
      },
      "execution_count": null,
      "outputs": [
        {
          "output_type": "stream",
          "name": "stdout",
          "text": [
            "Student Name: Adharsh\n",
            "Student Roll.No: 1\n",
            "Student Grade: A\n"
          ]
        }
      ]
    }
  ]
}