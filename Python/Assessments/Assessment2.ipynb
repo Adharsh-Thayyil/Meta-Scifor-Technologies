{
  "nbformat": 4,
  "nbformat_minor": 0,
  "metadata": {
    "colab": {
      "provenance": [],
      "authorship_tag": "ABX9TyMmKivNiJxOrHD1mipFmtK4"
    },
    "kernelspec": {
      "name": "python3",
      "display_name": "Python 3"
    },
    "language_info": {
      "name": "python"
    }
  },
  "cells": [
    {
      "cell_type": "markdown",
      "source": [
        "# **Assessment-2**"
      ],
      "metadata": {
        "id": "Og4GiXp3IbPS"
      }
    },
    {
      "cell_type": "markdown",
      "source": [
        "Nidhi is trying to solve a few questions in mathematics. She is actually finding out the central tendency(\n",
        "mean, median, and mode ) of some numbers. It is taking a lot of time for her to complete the\n",
        "questions. Help Nidhi in solving the following questions. Write the program for each of them.\n",
        "● .\n",
        "● She wants to find the mean of numbers. Write a program to find the mean of numbers.\n",
        "● Hint: find the sum of all the numbers in the list then divide it with the number of elements present in the\n",
        "list"
      ],
      "metadata": {
        "id": "J1iS2tmY08Ll"
      }
    },
    {
      "cell_type": "code",
      "execution_count": null,
      "metadata": {
        "colab": {
          "base_uri": "https://localhost:8080/"
        },
        "id": "kjZDAA9xzzfG",
        "outputId": "977dc21d-a899-49b1-b37f-78d3ae277e7c"
      },
      "outputs": [
        {
          "output_type": "stream",
          "name": "stdout",
          "text": [
            "Enter the numbers seperated by commas:2,5,7,6,5,9,18,5,3,15,5,6,4,5\n",
            "Mean: 6.785714285714286\n",
            "Median 5.0\n",
            "Mode: [5]\n"
          ]
        }
      ],
      "source": [
        "num = input(\"Enter the numbers seperated by commas:\").split(',')\n",
        "num = [int(i) for i in num]\n",
        "mean = sum(num)/len(num)\n",
        "print(\"Mean:\",mean)\n",
        "sorted_num = sorted(num)\n",
        "n = len(sorted_num)\n",
        "median = (sorted_num[n//2] + sorted_num[-(n//2 + 1)]) / 2 if n % 2 == 0 else sorted_num[n//2]\n",
        "print(\"Median\",median)\n",
        "mode = {}\n",
        "for i in num:\n",
        "  mode[i] = mode.get(i,0)+1\n",
        "max_count = max(mode.values())\n",
        "mode_values = [i for i , count in mode.items() if count == max_count]\n",
        "print(\"Mode:\",mode_values)"
      ]
    },
    {
      "cell_type": "markdown",
      "source": [
        "A teacher created a list of names of the students. Now teachers want to get the name of all those\n",
        "students whose name starts with the letter “A”. To help the teacher write a python program and create\n",
        "a list of names of students. Then print the names which start with the letter “A”. (Hint: Use for loop and\n",
        "give condition I [0] == “A” )"
      ],
      "metadata": {
        "id": "pxpAPMba6JAn"
      }
    },
    {
      "cell_type": "code",
      "source": [
        "stud_name = input(\"Enter name of Students:\").split(',')\n",
        "name = []\n",
        "for i in stud_name:\n",
        "  if i.strip()[0].lower() == \"a\":\n",
        "    name.append(i.strip())\n",
        "print(\"Name Starting with A:\",name)"
      ],
      "metadata": {
        "colab": {
          "base_uri": "https://localhost:8080/"
        },
        "id": "M8e-Ea2A6Ufm",
        "outputId": "d37845e7-beab-455f-848a-5cc19f7447ad"
      },
      "execution_count": null,
      "outputs": [
        {
          "output_type": "stream",
          "name": "stdout",
          "text": [
            "Enter name of Students:Adharsh,abhay,amaan,fred,steve,anila\n",
            "Name Starting with A: ['Adharsh', 'abhay', 'amaan', 'anila']\n"
          ]
        }
      ]
    }
  ]
}