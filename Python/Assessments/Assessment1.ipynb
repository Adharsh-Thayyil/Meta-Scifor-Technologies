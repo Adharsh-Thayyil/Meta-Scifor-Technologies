{
  "nbformat": 4,
  "nbformat_minor": 0,
  "metadata": {
    "colab": {
      "provenance": [],
      "authorship_tag": "ABX9TyPa77B6uhcZonKDelKdHKoM"
    },
    "kernelspec": {
      "name": "python3",
      "display_name": "Python 3"
    },
    "language_info": {
      "name": "python"
    }
  },
  "cells": [
    {
      "cell_type": "markdown",
      "source": [
        "# **Assessment-1**"
      ],
      "metadata": {
        "id": "igEiadmcHKrR"
      }
    },
    {
      "cell_type": "markdown",
      "source": [
        "Create a prime and a composite program using loop"
      ],
      "metadata": {
        "id": "hHCCP75DWJIx"
      }
    },
    {
      "cell_type": "code",
      "execution_count": null,
      "metadata": {
        "colab": {
          "base_uri": "https://localhost:8080/"
        },
        "id": "e2VmI_LbTlD3",
        "outputId": "38f859ff-bcc2-4795-cd1f-cf85849b3888"
      },
      "outputs": [
        {
          "output_type": "stream",
          "name": "stdout",
          "text": [
            "Enter the limit of numbers:11\n",
            "Prime Numbers upto 11 are [2, 3, 5, 7, 11]\n",
            "Composite Numbers upto 11 are [4, 6, 8, 9, 10]\n"
          ]
        }
      ],
      "source": [
        "num = int(input(\"Enter the limit of numbers:\"))\n",
        "prime = []\n",
        "comp = []\n",
        "for i in range(2,num+1):\n",
        "  is_prime = True\n",
        "  for j in range(2,int(i**0.5) + 1):\n",
        "    if i % j == 0:\n",
        "      is_prime = False\n",
        "      break\n",
        "  if is_prime:\n",
        "    prime.append(i)\n",
        "  elif i > 1:\n",
        "    comp.append(i)\n",
        "print(\"Prime Numbers upto {} are {}\".format(num,prime))\n",
        "print(\"Composite Numbers upto {} are {}\".format(num,comp))"
      ]
    },
    {
      "cell_type": "markdown",
      "source": [
        "Sarah is designing a window frame for a picture she painted. She wants the frame to have a hollow square pattern of stars around the picture. Can you help Sarah write a Python program to create this hollow square pattern with a user-defined size? Write a Python program to print a hollow square pattern of stars for Sarah's picture frame. The size of the square should be determined by the user."
      ],
      "metadata": {
        "id": "BNhsaTtkZpFK"
      }
    },
    {
      "cell_type": "code",
      "source": [
        "s = int(input(\"Enter the No. rows:\"))\n",
        "print(\"*\" * s)\n",
        "for i in range(s-2):\n",
        "  print(\"*\" + \" \" * (s-2) + \"*\")\n",
        "if s > 1:\n",
        "  print(\"*\" * s)"
      ],
      "metadata": {
        "colab": {
          "base_uri": "https://localhost:8080/"
        },
        "id": "Dmfvsu3tZqkG",
        "outputId": "c6ce6b23-3dd7-4ac6-b15d-e59fbfa006b6"
      },
      "execution_count": null,
      "outputs": [
        {
          "output_type": "stream",
          "name": "stdout",
          "text": [
            "Enter the No. rows:5\n",
            "*****\n",
            "*   *\n",
            "*   *\n",
            "*   *\n",
            "*****\n"
          ]
        }
      ]
    },
    {
      "cell_type": "markdown",
      "source": [
        "Manu was excited to try out a image using the canvas option. So,now he decided to build an app where he can add whatever he wants on the window after the double click on the screen. he also wants to display the text to the user by giving this info on the screen."
      ],
      "metadata": {
        "id": "rc4reiMNcOiM"
      }
    },
    {
      "cell_type": "code",
      "source": [
        "alphabet = []\n",
        "for i in range (5):\n",
        "  alphabet.append(input(\"Enter Alphabet {}:\".format(i+1)))\n",
        "patt = input(\"Enter 'triangle' for right angled triangle,'pyramid' for half pyramid, 'full' for full pyramid or 'diamond' for full diamond:\")\n",
        "if patt == 'triangle':\n",
        "  for i in range(len(alphabet)):\n",
        "    print(' '.join(alphabet[:i+1]))\n",
        "elif patt == 'pyramid':\n",
        "  for i in range(len(alphabet)):\n",
        "    print(' '.join(alphabet[:i+1]))\n",
        "elif patt == 'full':\n",
        "  max_len = len(alphabet[-1])\n",
        "  for i in range(len(alphabet)):\n",
        "    print(' ' * (max_len-i-1)+' '.join(alphabet[:i+1]))\n",
        "elif patt == 'diamond':\n",
        "  max_len = len(alphabet[-1])\n",
        "  for i in range(len(alphabet)):\n",
        "    print(' ' * (max_len-i-1)+' '.join(alphabet[:i+1]))\n",
        "  for i in range(len(alphabet)-2,-1,-1):\n",
        "    print(' ' * (max_len-i-1)+' '.join(alphabet[:i+1]))\n",
        "else:\n",
        "  print(\"Invalid Pattern\")\n",
        "\n"
      ],
      "metadata": {
        "colab": {
          "base_uri": "https://localhost:8080/"
        },
        "id": "ZGrNbEUkcUX-",
        "outputId": "07ede9ef-d70e-4e14-af06-7d58fdd5d9c0"
      },
      "execution_count": null,
      "outputs": [
        {
          "output_type": "stream",
          "name": "stdout",
          "text": [
            "Enter Alphabet 1:a\n",
            "Enter Alphabet 2:p\n",
            "Enter Alphabet 3:p\n",
            "Enter Alphabet 4:l\n",
            "Enter Alphabet 5:e\n",
            "Enter 'triangle' for right angled triangle,'pyramid' for half pyramid, 'full' for full pyramid or 'diamond' for full diamond:triangle\n",
            "a\n",
            "a p\n",
            "a p p\n",
            "a p p l\n",
            "a p p l e\n"
          ]
        }
      ]
    },
    {
      "cell_type": "markdown",
      "source": [
        "Hey Charlie, imagine you're at a magical candy land,and there are rows of candies numbered from 1 to 100. If a candy's number is divisible by 3, you shout 'Fizz!'. If it's divisible by 5 you shout 'Buzz!'. And if it's divisible by both 3 and 5, you shout 'FizzBuzz!'. Otherwise, you just say the candy's number. Can you write a Python code to do that?  "
      ],
      "metadata": {
        "id": "ZkUocAFCFMGe"
      }
    },
    {
      "cell_type": "code",
      "source": [
        "for candy_num in range(1,101):\n",
        "  if candy_num % 3 == 0 and candy_num % 5 == 0:\n",
        "    print(\"FizzBuzz!!\")\n",
        "  elif candy_num % 3 == 0:\n",
        "    print(\"Fizz!!\")\n",
        "  elif candy_num % 5 == 0:\n",
        "    print(\"Buzz!!\")\n",
        "  else:\n",
        "    print(candy_num)"
      ],
      "metadata": {
        "colab": {
          "base_uri": "https://localhost:8080/"
        },
        "id": "RF625yl8gQhM",
        "outputId": "aae79068-0721-4590-8eab-20de79dfd899"
      },
      "execution_count": null,
      "outputs": [
        {
          "output_type": "stream",
          "name": "stdout",
          "text": [
            "1\n",
            "2\n",
            "Fizz!!\n",
            "4\n",
            "Buzz!!\n",
            "Fizz!!\n",
            "7\n",
            "8\n",
            "Fizz!!\n",
            "Buzz!!\n",
            "11\n",
            "Fizz!!\n",
            "13\n",
            "14\n",
            "FizzBuzz!!\n",
            "16\n",
            "17\n",
            "Fizz!!\n",
            "19\n",
            "Buzz!!\n",
            "Fizz!!\n",
            "22\n",
            "23\n",
            "Fizz!!\n",
            "Buzz!!\n",
            "26\n",
            "Fizz!!\n",
            "28\n",
            "29\n",
            "FizzBuzz!!\n",
            "31\n",
            "32\n",
            "Fizz!!\n",
            "34\n",
            "Buzz!!\n",
            "Fizz!!\n",
            "37\n",
            "38\n",
            "Fizz!!\n",
            "Buzz!!\n",
            "41\n",
            "Fizz!!\n",
            "43\n",
            "44\n",
            "FizzBuzz!!\n",
            "46\n",
            "47\n",
            "Fizz!!\n",
            "49\n",
            "Buzz!!\n",
            "Fizz!!\n",
            "52\n",
            "53\n",
            "Fizz!!\n",
            "Buzz!!\n",
            "56\n",
            "Fizz!!\n",
            "58\n",
            "59\n",
            "FizzBuzz!!\n",
            "61\n",
            "62\n",
            "Fizz!!\n",
            "64\n",
            "Buzz!!\n",
            "Fizz!!\n",
            "67\n",
            "68\n",
            "Fizz!!\n",
            "Buzz!!\n",
            "71\n",
            "Fizz!!\n",
            "73\n",
            "74\n",
            "FizzBuzz!!\n",
            "76\n",
            "77\n",
            "Fizz!!\n",
            "79\n",
            "Buzz!!\n",
            "Fizz!!\n",
            "82\n",
            "83\n",
            "Fizz!!\n",
            "Buzz!!\n",
            "86\n",
            "Fizz!!\n",
            "88\n",
            "89\n",
            "FizzBuzz!!\n",
            "91\n",
            "92\n",
            "Fizz!!\n",
            "94\n",
            "Buzz!!\n",
            "Fizz!!\n",
            "97\n",
            "98\n",
            "Fizz!!\n",
            "Buzz!!\n"
          ]
        }
      ]
    }
  ]
}