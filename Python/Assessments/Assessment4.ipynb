{
  "nbformat": 4,
  "nbformat_minor": 0,
  "metadata": {
    "colab": {
      "provenance": [],
      "authorship_tag": "ABX9TyP5oGJmSn5LUbEXV+/5sxW+"
    },
    "kernelspec": {
      "name": "python3",
      "display_name": "Python 3"
    },
    "language_info": {
      "name": "python"
    }
  },
  "cells": [
    {
      "cell_type": "markdown",
      "source": [
        "# **Assessment-4**"
      ],
      "metadata": {
        "id": "smCBrKSbJqgz"
      }
    },
    {
      "cell_type": "markdown",
      "source": [
        "How do I make a GET  and post request using the requests module? and also checking status"
      ],
      "metadata": {
        "id": "HH3lMYX-6M_o"
      }
    },
    {
      "cell_type": "code",
      "execution_count": null,
      "metadata": {
        "colab": {
          "base_uri": "https://localhost:8080/"
        },
        "id": "CXZrKvxs6G3i",
        "outputId": "652f6634-2712-4a70-c64c-08a0ffe8f5f6"
      },
      "outputs": [
        {
          "output_type": "stream",
          "name": "stdout",
          "text": [
            "Chuck Norris Joke: If Chuck Norris says that turkey, cranberries & yams actually taste real good, then they do!!! And out of fear, that's the only reason we we eat that crap. We are truely Thankful that Chuck Norris only demands this once a year.\n",
            "Error Fetching Quote: 404\n"
          ]
        }
      ],
      "source": [
        "import requests\n",
        "get_response = requests.get('https://api.chucknorris.io/jokes/random')\n",
        "if get_response.status_code == 200:\n",
        "  print(\"Chuck Norris Joke:\",get_response.json()['value'])\n",
        "else:\n",
        "  print(\"Error Fetching Chuck Norris Joke:\",get_response.status_code)\n",
        "post_response = requests.post('https://api.quotable.io/random')\n",
        "if post_response.status_code == 200:\n",
        "  print(\"Random Quote:\",post_response.json()['content'])\n",
        "else:\n",
        "  print(\"Error Fetching Quote:\",post_response.status_code)"
      ]
    },
    {
      "cell_type": "markdown",
      "source": [
        "Random Password Generator:"
      ],
      "metadata": {
        "id": "3ij6zAgq8T_c"
      }
    },
    {
      "cell_type": "code",
      "source": [
        "import random\n",
        "\n",
        "def password_generator(length=10):\n",
        "  let_dig = 'abcdefghijklmnopqrstuvwxyzABCDEFGHIJKLMNOPQRSTUVWXYZ0123456789!@#$&*?'\n",
        "  return ''.join(random.choice(let_dig) for i in range(length))\n",
        "random_password = password_generator()\n",
        "print(\"Random Password :\",random_password)"
      ],
      "metadata": {
        "colab": {
          "base_uri": "https://localhost:8080/"
        },
        "id": "NNx4VAiP8cTE",
        "outputId": "4dc59485-1edd-4bb5-9469-33d51d76963c"
      },
      "execution_count": null,
      "outputs": [
        {
          "output_type": "stream",
          "name": "stdout",
          "text": [
            "Random Password : 16j@1zWw3q\n"
          ]
        }
      ]
    },
    {
      "cell_type": "markdown",
      "source": [
        "Random Quote Engine: Design a function that selects and displays a random quote from a predefined list."
      ],
      "metadata": {
        "id": "S8NqqwG2-O8h"
      }
    },
    {
      "cell_type": "code",
      "source": [
        "import random\n",
        "\n",
        "def rand_quote():\n",
        "  quotes = [\n",
        "      \"YOLO - YOU ONLY LIVE ONCE.\",\n",
        "      \"BE A VOICE, NOT AN ECHO.\",\n",
        "      \"NOTHING IS IMPOSSIBLE\",\n",
        "      \"JUST DO IT.\",\n",
        "      \"RISK EVERYTHING.\"\n",
        "  ]\n",
        "  return random.choice(quotes)\n",
        "print(\"Random Quote:\",rand_quote())\n"
      ],
      "metadata": {
        "colab": {
          "base_uri": "https://localhost:8080/"
        },
        "id": "tWbyzGmd-VpC",
        "outputId": "641cc847-5274-4dbf-f630-f47692274ab8"
      },
      "execution_count": null,
      "outputs": [
        {
          "output_type": "stream",
          "name": "stdout",
          "text": [
            "Random Quote: BE A VOICE, NOT AN ECHO.\n"
          ]
        }
      ]
    }
  ]
}