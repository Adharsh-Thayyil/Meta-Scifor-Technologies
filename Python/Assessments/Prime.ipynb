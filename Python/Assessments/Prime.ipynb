{
  "nbformat": 4,
  "nbformat_minor": 0,
  "metadata": {
    "colab": {
      "provenance": [],
      "authorship_tag": "ABX9TyO2LX5HppOaPzS/Rmln7Qre"
    },
    "kernelspec": {
      "name": "python3",
      "display_name": "Python 3"
    },
    "language_info": {
      "name": "python"
    }
  },
  "cells": [
    {
      "cell_type": "code",
      "source": [
        "def is_prime(num):\n",
        "  if num <= 1:\n",
        "    return False\n",
        "  for i in range(2,int(num**0.5)+1):\n",
        "    if num % i == 0:\n",
        "      return False\n",
        "  return True\n",
        "number = int(input(\"Enter the number:\"))\n",
        "if is_prime(number):\n",
        "  print(\"{} is a prime number\".format(number))\n",
        "else:\n",
        "  print(\"{} is a composite number\".format(number))"
      ],
      "metadata": {
        "colab": {
          "base_uri": "https://localhost:8080/"
        },
        "id": "Xq3H1fuyfJsi",
        "outputId": "04fb653c-1599-4e3e-98ef-199d7b824741"
      },
      "execution_count": null,
      "outputs": [
        {
          "output_type": "stream",
          "name": "stdout",
          "text": [
            "Enter the number:5\n",
            "5 is a prime number\n"
          ]
        }
      ]
    }
  ]
}